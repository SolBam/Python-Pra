{
  "nbformat": 4,
  "nbformat_minor": 0,
  "metadata": {
    "colab": {
      "provenance": [],
      "authorship_tag": "ABX9TyOx6rRxQVTe1CKwqVfnmJMQ",
      "include_colab_link": true
    },
    "kernelspec": {
      "name": "python3",
      "display_name": "Python 3"
    },
    "language_info": {
      "name": "python"
    }
  },
  "cells": [
    {
      "cell_type": "markdown",
      "metadata": {
        "id": "view-in-github",
        "colab_type": "text"
      },
      "source": [
        "<a href=\"https://colab.research.google.com/github/SolBam/Python-Pra/blob/main/16_%EB%9D%BC%EC%9D%B4%EB%B8%8C%EB%9F%AC%EB%A6%AC_math.ipynb\" target=\"_parent\"><img src=\"https://colab.research.google.com/assets/colab-badge.svg\" alt=\"Open In Colab\"/></a>"
      ]
    },
    {
      "cell_type": "code",
      "execution_count": 1,
      "metadata": {
        "id": "0jPWay74hKVf"
      },
      "outputs": [],
      "source": [
        "import math"
      ]
    },
    {
      "cell_type": "code",
      "source": [
        "# math.ceil(x) 올림\n",
        "print(math.ceil(12.3))\n",
        "\n",
        "# math.floor(x) 내림\n",
        "print(math.floor(12.7))"
      ],
      "metadata": {
        "colab": {
          "base_uri": "https://localhost:8080/"
        },
        "id": "ueY1btu6hPz8",
        "outputId": "78ca7abf-db9f-4297-b710-a545f1378fdb"
      },
      "execution_count": 2,
      "outputs": [
        {
          "output_type": "stream",
          "name": "stdout",
          "text": [
            "13\n",
            "12\n"
          ]
        }
      ]
    },
    {
      "cell_type": "code",
      "source": [
        "# math.fabs(x) 절댓값\n",
        "\n",
        "print(math.fabs(3))\n",
        "print(math.fabs(-3))\n",
        "print(abs(-3))\n",
        "print(abs(-3.5))"
      ],
      "metadata": {
        "colab": {
          "base_uri": "https://localhost:8080/"
        },
        "id": "HnjNr7M0hYUT",
        "outputId": "0fba6880-7fdf-493a-ea20-60d5ad39793b"
      },
      "execution_count": 3,
      "outputs": [
        {
          "output_type": "stream",
          "name": "stdout",
          "text": [
            "3.0\n",
            "3.0\n",
            "3\n",
            "3.5\n"
          ]
        }
      ]
    },
    {
      "cell_type": "code",
      "source": [
        "# math.factorial(n) 팩토리얼\n",
        "print(math.factorial(5))"
      ],
      "metadata": {
        "colab": {
          "base_uri": "https://localhost:8080/"
        },
        "id": "UptxnLEWhgm-",
        "outputId": "1b2feac8-9c8a-46c8-cb08-c8b21de6c34f"
      },
      "execution_count": 4,
      "outputs": [
        {
          "output_type": "stream",
          "name": "stdout",
          "text": [
            "120\n"
          ]
        }
      ]
    },
    {
      "cell_type": "code",
      "source": [
        "# math.sqrt(x) 제곱근\n",
        "print(math.sqrt(7))\n",
        "print(math.sqrt(9))"
      ],
      "metadata": {
        "colab": {
          "base_uri": "https://localhost:8080/"
        },
        "id": "hRoH7JhmhnCU",
        "outputId": "e9eb172a-2695-440c-ed63-0ba134bd6de5"
      },
      "execution_count": 5,
      "outputs": [
        {
          "output_type": "stream",
          "name": "stdout",
          "text": [
            "2.6457513110645907\n",
            "3.0\n"
          ]
        }
      ]
    },
    {
      "cell_type": "code",
      "source": [
        "# math.dist(p, q) 유클리드 거리\n",
        "print(math.dist([0, 0], [3, 4]))\n",
        "print(math.dist([1, 2, 3], [5, 6, 7]))"
      ],
      "metadata": {
        "colab": {
          "base_uri": "https://localhost:8080/"
        },
        "id": "RlYah3LEhtj3",
        "outputId": "8e24a360-53eb-4f62-e690-79284d83ffd5"
      },
      "execution_count": 6,
      "outputs": [
        {
          "output_type": "stream",
          "name": "stdout",
          "text": [
            "5.0\n",
            "6.928203230275509\n"
          ]
        }
      ]
    },
    {
      "cell_type": "code",
      "source": [
        "# math.gcd(+integers) 최대공약수\n",
        "print(math.gcd(120, 168, 78))\n",
        "\n",
        "# math.lcm(+integers) 최소공배수\n",
        "print(math.lcm(12, 14, 9))"
      ],
      "metadata": {
        "colab": {
          "base_uri": "https://localhost:8080/"
        },
        "id": "nITBSvJyh2O3",
        "outputId": "8fdd8760-b4f6-460f-8d2f-46b9500f59f7"
      },
      "execution_count": 7,
      "outputs": [
        {
          "output_type": "stream",
          "name": "stdout",
          "text": [
            "6\n",
            "252\n"
          ]
        }
      ]
    },
    {
      "cell_type": "code",
      "source": [
        "# math.comb(n, k) 조합의 수\n",
        "# 반복과 순서없이 n개의 항목에서 k개의 항목을 선택하는 방법의 수\n",
        "# k <= n이면 n! / (k! + (n - k)!)로 평가되고, k > n이면 0으로 평가\n",
        "print(math.comb(5, 3))"
      ],
      "metadata": {
        "colab": {
          "base_uri": "https://localhost:8080/"
        },
        "id": "6gGPAb57iDQ1",
        "outputId": "67542f4f-a59e-49ab-d2d4-a7d9456f4819"
      },
      "execution_count": 8,
      "outputs": [
        {
          "output_type": "stream",
          "name": "stdout",
          "text": [
            "10\n"
          ]
        }
      ]
    },
    {
      "cell_type": "code",
      "source": [
        "# 상수 표현\n",
        "print(math.pi)\n",
        "print(math.e)\n",
        "print(math.inf)\n",
        "print(-math.inf)\n",
        "print(math.nan)"
      ],
      "metadata": {
        "colab": {
          "base_uri": "https://localhost:8080/"
        },
        "id": "QXkcXyJOiTbo",
        "outputId": "6b10a324-a9d5-4557-c937-c86fa4645d90"
      },
      "execution_count": 9,
      "outputs": [
        {
          "output_type": "stream",
          "name": "stdout",
          "text": [
            "3.141592653589793\n",
            "2.718281828459045\n",
            "inf\n",
            "-inf\n",
            "nan\n"
          ]
        }
      ]
    },
    {
      "cell_type": "code",
      "source": [
        "# 두 점 사이 가로, 세로 거리 중 더 큰 값 계산 문제\n",
        "def max_distance(point1, point2):\n",
        "  x1, y1 = point1\n",
        "  x2, y2 = point2\n",
        "\n",
        "  max_distance = max(math.fabs(x2 - x1), math.fabs(y2 - y1))\n",
        "  return max_distance\n",
        "\n",
        "max_distance = max_distance([1, 2], [4, 6])\n",
        "\n",
        "print('두 점 사이의 가로 또는 세로 거리 중 큰 값:', max_distance)"
      ],
      "metadata": {
        "colab": {
          "base_uri": "https://localhost:8080/"
        },
        "id": "EFq2VvdJicb4",
        "outputId": "f8c28193-54d8-42a1-ea77-e9b7bfc137a7"
      },
      "execution_count": 10,
      "outputs": [
        {
          "output_type": "stream",
          "name": "stdout",
          "text": [
            "두 점 사이의 가로 또는 세로 거리 중 큰 값: 4.0\n"
          ]
        }
      ]
    },
    {
      "cell_type": "code",
      "source": [
        "# 원의 넓이 계산 문제\n",
        "def circle_area(radius):\n",
        "  area = math.pi * radius**2\n",
        "  return area\n",
        "\n",
        "area = circle_area(5)\n",
        "\n",
        "print('원의 넓이:', area)"
      ],
      "metadata": {
        "colab": {
          "base_uri": "https://localhost:8080/"
        },
        "id": "2CmxG0siizun",
        "outputId": "807ff785-bf44-4b7c-fcdc-3a87face3ab6"
      },
      "execution_count": 11,
      "outputs": [
        {
          "output_type": "stream",
          "name": "stdout",
          "text": [
            "원의 넓이: 78.53981633974483\n"
          ]
        }
      ]
    },
    {
      "cell_type": "code",
      "source": [
        "# 헤론의 공식 문제: 삼각형의 세 변 a,b,c의 합의 1/2을 s라 하면 넓이는 s(s-a)(s-b)(s-c)의 제곱근과 같다.\n",
        "def triangle_area(a, b, c):\n",
        "  a = float(a)\n",
        "  b = float(b)\n",
        "  c = float(c)\n",
        "\n",
        "  s = (a + b + c) / 2\n",
        "\n",
        "  area = math.sqrt(s * (s - a) * (s - b) * (s - c))\n",
        "  return area\n",
        "\n",
        "area = triangle_area(3, 4, 5)\n",
        "\n",
        "print('삼각형의 넓이:', area)"
      ],
      "metadata": {
        "colab": {
          "base_uri": "https://localhost:8080/"
        },
        "id": "130cioqpi92L",
        "outputId": "3da51857-b4b9-4128-b875-102fedbe57d5"
      },
      "execution_count": 12,
      "outputs": [
        {
          "output_type": "stream",
          "name": "stdout",
          "text": [
            "삼각형의 넓이: 6.0\n"
          ]
        }
      ]
    },
    {
      "cell_type": "code",
      "source": [
        "# 세 점의 좌표로 삼각형의 둘레 계산 문제\n",
        "def triangle_perimeter(p1, p2, p3):\n",
        "  distance1 = math.dist(p1, p2)\n",
        "  distance2 = math.dist(p2, p3)\n",
        "  distance3 = math.dist(p3, p1)\n",
        "\n",
        "  perimeter = distance1 + distance2 + distance3\n",
        "  return perimeter\n",
        "\n",
        "perimeter = triangle_perimeter([1, 2], [4, 6], [7, 3])\n",
        "\n",
        "print('삼각형의 둘레:', perimeter)"
      ],
      "metadata": {
        "colab": {
          "base_uri": "https://localhost:8080/"
        },
        "id": "g_QCOKHZjeN5",
        "outputId": "44878930-72ee-4bc0-c9f5-5f60aefdbd5c"
      },
      "execution_count": 13,
      "outputs": [
        {
          "output_type": "stream",
          "name": "stdout",
          "text": [
            "삼각형의 둘레: 15.325403217417502\n"
          ]
        }
      ]
    }
  ]
}