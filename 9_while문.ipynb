{
  "nbformat": 4,
  "nbformat_minor": 0,
  "metadata": {
    "colab": {
      "provenance": [],
      "authorship_tag": "ABX9TyP67hJKXV7rohi1yQde2Xx6",
      "include_colab_link": true
    },
    "kernelspec": {
      "name": "python3",
      "display_name": "Python 3"
    },
    "language_info": {
      "name": "python"
    }
  },
  "cells": [
    {
      "cell_type": "markdown",
      "metadata": {
        "id": "view-in-github",
        "colab_type": "text"
      },
      "source": [
        "<a href=\"https://colab.research.google.com/github/SolBam/Python-Pra/blob/main/9_while%EB%AC%B8.ipynb\" target=\"_parent\"><img src=\"https://colab.research.google.com/assets/colab-badge.svg\" alt=\"Open In Colab\"/></a>"
      ]
    },
    {
      "cell_type": "code",
      "execution_count": 1,
      "metadata": {
        "colab": {
          "base_uri": "https://localhost:8080/"
        },
        "id": "e6PIhH9bYNqY",
        "outputId": "43793694-7b44-4bf0-ec68-f4a096f1009a"
      },
      "outputs": [
        {
          "output_type": "stream",
          "name": "stdout",
          "text": [
            "0\n",
            "1\n",
            "2\n",
            "3\n",
            "4\n",
            "반복 종료\n"
          ]
        }
      ],
      "source": [
        "n = 0\n",
        "\n",
        "while n < 5:\n",
        "  print(n)\n",
        "  n += 1\n",
        "print('반복 종료')"
      ]
    },
    {
      "cell_type": "code",
      "source": [
        "total = 0\n",
        "num = 1\n",
        "\n",
        "while total <= 100:\n",
        "  total += num\n",
        "  num += 1\n",
        "print('총합:', total)"
      ],
      "metadata": {
        "colab": {
          "base_uri": "https://localhost:8080/"
        },
        "id": "6QkOSiyNY3sn",
        "outputId": "e450bb95-eca2-4d8a-950d-6b58c369333f"
      },
      "execution_count": 3,
      "outputs": [
        {
          "output_type": "stream",
          "name": "stdout",
          "text": [
            "총합: 105\n"
          ]
        }
      ]
    },
    {
      "cell_type": "code",
      "source": [
        "num = 1\n",
        "\n",
        "while num != 0:\n",
        "  num = int(input('숫자를 입력하세요.'))\n",
        "  print(f'입력한 숫자: {num}')\n",
        "print('프로그램 종료!')"
      ],
      "metadata": {
        "colab": {
          "base_uri": "https://localhost:8080/"
        },
        "id": "5Cw7tSS5ZMyI",
        "outputId": "f16eae75-6668-4441-d4cc-87169f10763d"
      },
      "execution_count": 4,
      "outputs": [
        {
          "output_type": "stream",
          "name": "stdout",
          "text": [
            "숫자를 입력하세요.3\n",
            "입력한 숫자: 3\n",
            "숫자를 입력하세요.5\n",
            "입력한 숫자: 5\n",
            "숫자를 입력하세요.7\n",
            "입력한 숫자: 7\n",
            "숫자를 입력하세요.0\n",
            "입력한 숫자: 0\n",
            "프로그램 종료!\n"
          ]
        }
      ]
    },
    {
      "cell_type": "code",
      "source": [
        "text = ''\n",
        "\n",
        "while text != 'Stop':\n",
        "  text = input('글자를 입력하세요.(Stop 입력 시 종료): ')\n",
        "  print(f'입력한 글자: {text}')\n",
        "print('프로그램 종료!')"
      ],
      "metadata": {
        "colab": {
          "base_uri": "https://localhost:8080/"
        },
        "id": "bYsHsotbZqa6",
        "outputId": "869beae1-5189-4894-fca6-a756ef862794"
      },
      "execution_count": 5,
      "outputs": [
        {
          "output_type": "stream",
          "name": "stdout",
          "text": [
            "글자를 입력하세요.(Stop 입력 시 종료): HI\n",
            "입력한 글자: HI\n",
            "글자를 입력하세요.(Stop 입력 시 종료): hello\n",
            "입력한 글자: hello\n",
            "글자를 입력하세요.(Stop 입력 시 종료): Stop\n",
            "입력한 글자: Stop\n",
            "프로그램 종료!\n"
          ]
        }
      ]
    }
  ]
}