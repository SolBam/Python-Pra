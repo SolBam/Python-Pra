{
  "nbformat": 4,
  "nbformat_minor": 0,
  "metadata": {
    "colab": {
      "provenance": [],
      "authorship_tag": "ABX9TyOrtU2YkmosVbCZilXfoHFL",
      "include_colab_link": true
    },
    "kernelspec": {
      "name": "python3",
      "display_name": "Python 3"
    },
    "language_info": {
      "name": "python"
    }
  },
  "cells": [
    {
      "cell_type": "markdown",
      "metadata": {
        "id": "view-in-github",
        "colab_type": "text"
      },
      "source": [
        "<a href=\"https://colab.research.google.com/github/SolBam/Python-Pra/blob/main/3_%EB%AC%B8%EC%9E%90%EC%97%B4_%EB%8B%A4%EB%A3%A8%EA%B8%B0.ipynb\" target=\"_parent\"><img src=\"https://colab.research.google.com/assets/colab-badge.svg\" alt=\"Open In Colab\"/></a>"
      ]
    },
    {
      "cell_type": "code",
      "execution_count": 1,
      "metadata": {
        "colab": {
          "base_uri": "https://localhost:8080/"
        },
        "id": "mDNU4zaZhSp8",
        "outputId": "6049e3c3-1204-44b2-a1f0-84ca24b6b5ad"
      },
      "outputs": [
        {
          "output_type": "stream",
          "name": "stdout",
          "text": [
            "T\n",
            "y\n",
            "r\n",
            "e\n"
          ]
        }
      ],
      "source": [
        "text = 'Today is December'\n",
        "\n",
        "print(text[0])\n",
        "print(text[4])\n",
        "print(text[-1])\n",
        "print(text[-7])"
      ]
    },
    {
      "cell_type": "code",
      "source": [
        "text = 'Today is December'\n",
        "\n",
        "print(text[0:5])\n",
        "print(text[6:8])\n",
        "print(text[0:-1:2])\n",
        "print(text[:9])\n",
        "print(text[9:])\n",
        "print(text[::-1])"
      ],
      "metadata": {
        "colab": {
          "base_uri": "https://localhost:8080/"
        },
        "id": "g0n8JE1ghjnc",
        "outputId": "4a05e0f1-bbbf-49c1-bc15-5af6d80ee24e"
      },
      "execution_count": 2,
      "outputs": [
        {
          "output_type": "stream",
          "name": "stdout",
          "text": [
            "Today\n",
            "is\n",
            "Tdyi eeb\n",
            "Today is \n",
            "December\n",
            "rebmeceD si yadoT\n"
          ]
        }
      ]
    },
    {
      "cell_type": "code",
      "source": [
        "name = '정우'\n",
        "\n",
        "print(f'name is {name}')\n",
        "print('name is {}'.format(name))\n",
        "print('name is %s' %(name))"
      ],
      "metadata": {
        "colab": {
          "base_uri": "https://localhost:8080/"
        },
        "id": "VIcYrqyXiRxo",
        "outputId": "56728014-cbb5-4aa1-90cf-068cefed2a1b"
      },
      "execution_count": 4,
      "outputs": [
        {
          "output_type": "stream",
          "name": "stdout",
          "text": [
            "name is 정우\n",
            "name is 정우\n",
            "name is 정우\n"
          ]
        }
      ]
    },
    {
      "cell_type": "code",
      "source": [
        "a = 5\n",
        "b = 7\n",
        "\n",
        "print(f'{a} + {b} = {a+b}')\n",
        "print('{} + {} = {}'.format(a, b, a+b))\n",
        "print('%d + %d = %d' %(a, b, a+b))"
      ],
      "metadata": {
        "colab": {
          "base_uri": "https://localhost:8080/"
        },
        "id": "4-fwbiyYipRg",
        "outputId": "e5125642-1775-4d98-9cd3-ce3a8eb4d852"
      },
      "execution_count": 5,
      "outputs": [
        {
          "output_type": "stream",
          "name": "stdout",
          "text": [
            "5 + 7 = 12\n",
            "5 + 7 = 12\n",
            "5 + 7 = 12\n"
          ]
        }
      ]
    },
    {
      "cell_type": "code",
      "source": [
        "text = '하나 둘 셋'\n",
        "\n",
        "text.split() # 문자 분할"
      ],
      "metadata": {
        "colab": {
          "base_uri": "https://localhost:8080/"
        },
        "id": "7n-dFMrWi3sh",
        "outputId": "4fed156c-6144-47f7-eeb5-6120214ffb8a"
      },
      "execution_count": 6,
      "outputs": [
        {
          "output_type": "execute_result",
          "data": {
            "text/plain": [
              "['하나', '둘', '셋']"
            ]
          },
          "metadata": {},
          "execution_count": 6
        }
      ]
    },
    {
      "cell_type": "code",
      "source": [
        "text = ' 안녕하세요. 반갑습니다.  '\n",
        "\n",
        "text.strip() # 양 끝 공백 제거"
      ],
      "metadata": {
        "colab": {
          "base_uri": "https://localhost:8080/",
          "height": 35
        },
        "id": "-xsZDAWojBEY",
        "outputId": "32bab9c0-9a79-4c2e-d8d1-da9f59215618"
      },
      "execution_count": 7,
      "outputs": [
        {
          "output_type": "execute_result",
          "data": {
            "text/plain": [
              "'안녕하세요. 반갑습니다.'"
            ],
            "application/vnd.google.colaboratory.intrinsic+json": {
              "type": "string"
            }
          },
          "metadata": {},
          "execution_count": 7
        }
      ]
    },
    {
      "cell_type": "code",
      "source": [
        "text = '안녕하세요. 정우입니다.'\n",
        "\n",
        "text.replace('정우', '나') # 특정 문자 대체"
      ],
      "metadata": {
        "colab": {
          "base_uri": "https://localhost:8080/",
          "height": 35
        },
        "id": "EDCIAu_xjHx0",
        "outputId": "b69b0290-bd74-4d81-c49a-e87da18dc8df"
      },
      "execution_count": 8,
      "outputs": [
        {
          "output_type": "execute_result",
          "data": {
            "text/plain": [
              "'안녕하세요. 나입니다.'"
            ],
            "application/vnd.google.colaboratory.intrinsic+json": {
              "type": "string"
            }
          },
          "metadata": {},
          "execution_count": 8
        }
      ]
    },
    {
      "cell_type": "code",
      "source": [
        "text = 'Hello. Python'\n",
        "\n",
        "print(text.upper()) # 대문자 변환\n",
        "print(text.lower()) # 소문자 변환"
      ],
      "metadata": {
        "colab": {
          "base_uri": "https://localhost:8080/"
        },
        "id": "3_NZKpQojVcO",
        "outputId": "e8d8f475-7046-4da5-8d29-122b613f4cd1"
      },
      "execution_count": 9,
      "outputs": [
        {
          "output_type": "stream",
          "name": "stdout",
          "text": [
            "HELLO. PYTHON\n",
            "hello. python\n"
          ]
        }
      ]
    },
    {
      "cell_type": "code",
      "source": [
        "text = 'Hello. Python'\n",
        "\n",
        "print(text.find('P')) # 특정 문자 위치 반환\n",
        "print(text.find('A'))"
      ],
      "metadata": {
        "colab": {
          "base_uri": "https://localhost:8080/"
        },
        "id": "VVDHqK-ijdpH",
        "outputId": "30da484e-46d5-4e13-cb67-dbe4432373cd"
      },
      "execution_count": 10,
      "outputs": [
        {
          "output_type": "stream",
          "name": "stdout",
          "text": [
            "7\n",
            "-1\n"
          ]
        }
      ]
    },
    {
      "cell_type": "code",
      "source": [
        "text = 'Hello. Python'\n",
        "\n",
        "print(text.count('l')) # 특정 문자 개수 반환\n",
        "print(text.count('A'))"
      ],
      "metadata": {
        "colab": {
          "base_uri": "https://localhost:8080/"
        },
        "id": "YGGTLEGmjnuO",
        "outputId": "428ab21f-da39-4db7-fdeb-c3c03957339a"
      },
      "execution_count": 11,
      "outputs": [
        {
          "output_type": "stream",
          "name": "stdout",
          "text": [
            "2\n",
            "0\n"
          ]
        }
      ]
    },
    {
      "cell_type": "code",
      "source": [
        "# text.join(): 요소를 합쳐 문자로 반환\n",
        "\n",
        "'-'.join(['2024년', '5월', '3일'])"
      ],
      "metadata": {
        "colab": {
          "base_uri": "https://localhost:8080/",
          "height": 35
        },
        "id": "Raihyq1hjvPk",
        "outputId": "b7bde8f1-fcb0-45b4-8531-aa0bce4266c8"
      },
      "execution_count": 12,
      "outputs": [
        {
          "output_type": "execute_result",
          "data": {
            "text/plain": [
              "'2024년-5월-3일'"
            ],
            "application/vnd.google.colaboratory.intrinsic+json": {
              "type": "string"
            }
          },
          "metadata": {},
          "execution_count": 12
        }
      ]
    },
    {
      "cell_type": "code",
      "source": [
        "text = 'Hello. Python'\n",
        "\n",
        "text.isalpha() # 알파벳인가?"
      ],
      "metadata": {
        "colab": {
          "base_uri": "https://localhost:8080/"
        },
        "id": "-ZbCuNookDGT",
        "outputId": "23f1fa2d-4ebe-4ea7-b6f1-8d5a95b3db6e"
      },
      "execution_count": 13,
      "outputs": [
        {
          "output_type": "execute_result",
          "data": {
            "text/plain": [
              "False"
            ]
          },
          "metadata": {},
          "execution_count": 13
        }
      ]
    },
    {
      "cell_type": "code",
      "source": [
        "text = '123'\n",
        "\n",
        "text.isdigit() # 정수인가?"
      ],
      "metadata": {
        "colab": {
          "base_uri": "https://localhost:8080/"
        },
        "id": "PVRoHFNmkPAd",
        "outputId": "926b32fa-7d0d-4559-87f6-7f335cc2e0d0"
      },
      "execution_count": 14,
      "outputs": [
        {
          "output_type": "execute_result",
          "data": {
            "text/plain": [
              "True"
            ]
          },
          "metadata": {},
          "execution_count": 14
        }
      ]
    },
    {
      "cell_type": "code",
      "source": [
        "text = '1/2'\n",
        "\n",
        "text.isnumeric() # 숫자인가?"
      ],
      "metadata": {
        "colab": {
          "base_uri": "https://localhost:8080/"
        },
        "id": "dS5nh5Y7kTSv",
        "outputId": "79650cce-532c-4e38-a35e-e9873bab3d59"
      },
      "execution_count": 15,
      "outputs": [
        {
          "output_type": "execute_result",
          "data": {
            "text/plain": [
              "False"
            ]
          },
          "metadata": {},
          "execution_count": 15
        }
      ]
    },
    {
      "cell_type": "code",
      "source": [
        "text = 'abcd1234'\n",
        "\n",
        "text.isalnum() # 알파벳+숫자인가?"
      ],
      "metadata": {
        "colab": {
          "base_uri": "https://localhost:8080/"
        },
        "id": "AcTbj_INkbxc",
        "outputId": "07a9a81b-9b67-4ffc-970a-2b9e4ae4d89d"
      },
      "execution_count": 16,
      "outputs": [
        {
          "output_type": "execute_result",
          "data": {
            "text/plain": [
              "True"
            ]
          },
          "metadata": {},
          "execution_count": 16
        }
      ]
    },
    {
      "cell_type": "code",
      "source": [
        "text1 = '안녕하세요. hello'\n",
        "text2 = '안녕하세요. HELLO'\n",
        "\n",
        "print(text1.isupper()) # 영어가 모두 대문자인가?\n",
        "print(text2.islower()) # 영어가 모두 소문자인가?"
      ],
      "metadata": {
        "colab": {
          "base_uri": "https://localhost:8080/"
        },
        "id": "_9olmCdekhtE",
        "outputId": "82e1d272-68db-495b-89d3-7a84f0f38751"
      },
      "execution_count": 17,
      "outputs": [
        {
          "output_type": "stream",
          "name": "stdout",
          "text": [
            "False\n",
            "False\n"
          ]
        }
      ]
    }
  ]
}