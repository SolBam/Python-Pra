{
  "nbformat": 4,
  "nbformat_minor": 0,
  "metadata": {
    "colab": {
      "provenance": [],
      "authorship_tag": "ABX9TyMZHSYTMilOa8Q+w+eXUt5C",
      "include_colab_link": true
    },
    "kernelspec": {
      "name": "python3",
      "display_name": "Python 3"
    },
    "language_info": {
      "name": "python"
    }
  },
  "cells": [
    {
      "cell_type": "markdown",
      "metadata": {
        "id": "view-in-github",
        "colab_type": "text"
      },
      "source": [
        "<a href=\"https://colab.research.google.com/github/SolBam/Python-Pra/blob/main/4_%EB%A6%AC%EC%8A%A4%ED%8A%B8.ipynb\" target=\"_parent\"><img src=\"https://colab.research.google.com/assets/colab-badge.svg\" alt=\"Open In Colab\"/></a>"
      ]
    },
    {
      "cell_type": "code",
      "execution_count": 1,
      "metadata": {
        "colab": {
          "base_uri": "https://localhost:8080/"
        },
        "id": "LsehdCY-v4W8",
        "outputId": "eafb1abe-5964-4b99-945d-f9b7e84a991b"
      },
      "outputs": [
        {
          "output_type": "stream",
          "name": "stdout",
          "text": [
            "[0, 1, 2, 3, 4, 5, 6, 7, 8, 9, 10]\n",
            "['h', 'e', 'l', 'l', 'o']\n"
          ]
        }
      ],
      "source": [
        "num_list = [0, 1, 2, 3, 4, 5, 6, 7, 8, 9, 10]\n",
        "text_list = list('hello')\n",
        "\n",
        "print(num_list)\n",
        "print(text_list)"
      ]
    },
    {
      "cell_type": "code",
      "source": [
        "print(text_list[0])\n",
        "print(text_list[1:3])"
      ],
      "metadata": {
        "colab": {
          "base_uri": "https://localhost:8080/"
        },
        "id": "JrZ0vzfqxMDD",
        "outputId": "de0beae3-8d73-4737-97ed-299e81591640"
      },
      "execution_count": 2,
      "outputs": [
        {
          "output_type": "stream",
          "name": "stdout",
          "text": [
            "h\n",
            "['e', 'l']\n"
          ]
        }
      ]
    },
    {
      "cell_type": "code",
      "source": [
        "num_list = [0, 1, 2, 3, 4, 5, 6, 7, 8, 9, 10]\n",
        "\n",
        "num_list[-1] = 100\n",
        "print(num_list)\n",
        "\n",
        "num_list[2:4] = [20, 30]\n",
        "print(num_list)"
      ],
      "metadata": {
        "colab": {
          "base_uri": "https://localhost:8080/"
        },
        "id": "kQoXrL6bxRpx",
        "outputId": "441b8231-dad4-43f8-aa86-f6dd75415655"
      },
      "execution_count": 4,
      "outputs": [
        {
          "output_type": "stream",
          "name": "stdout",
          "text": [
            "[0, 1, 2, 3, 4, 5, 6, 7, 8, 9, 100]\n",
            "[0, 1, 20, 30, 4, 5, 6, 7, 8, 9, 100]\n"
          ]
        }
      ]
    },
    {
      "cell_type": "code",
      "source": [
        "num_list = [0, 1, 2, 3, 4, 5, 6, 7, 8, 9, 10]\n",
        "\n",
        "del num_list[0]\n",
        "print(num_list)\n",
        "\n",
        "del num_list[1:3]\n",
        "print(num_list)"
      ],
      "metadata": {
        "colab": {
          "base_uri": "https://localhost:8080/"
        },
        "id": "VQ5144TUxdz4",
        "outputId": "eec18b9e-4622-4044-d820-72cad6f8a1c7"
      },
      "execution_count": 5,
      "outputs": [
        {
          "output_type": "stream",
          "name": "stdout",
          "text": [
            "[1, 2, 3, 4, 5, 6, 7, 8, 9, 10]\n",
            "[1, 4, 5, 6, 7, 8, 9, 10]\n"
          ]
        }
      ]
    },
    {
      "cell_type": "code",
      "source": [
        "num_list = [5, 3, 2, 4, 7, 8, 6, 9, 1]\n",
        "num_list.append(10) # 리스트 맨 뒤로 값 추가\n",
        "num_list"
      ],
      "metadata": {
        "colab": {
          "base_uri": "https://localhost:8080/"
        },
        "id": "vD167VNJxnen",
        "outputId": "f12de88a-0ba3-4a53-af64-1418e442e685"
      },
      "execution_count": 6,
      "outputs": [
        {
          "output_type": "execute_result",
          "data": {
            "text/plain": [
              "[5, 3, 2, 4, 7, 8, 6, 9, 1, 10]"
            ]
          },
          "metadata": {},
          "execution_count": 6
        }
      ]
    },
    {
      "cell_type": "code",
      "source": [
        "num_list.insert(3, 100) # 원하는 위치에 값 추가\n",
        "num_list"
      ],
      "metadata": {
        "colab": {
          "base_uri": "https://localhost:8080/"
        },
        "id": "C4KV1iufxvYL",
        "outputId": "506ecb19-7e56-4653-a004-20c843af0a5f"
      },
      "execution_count": 7,
      "outputs": [
        {
          "output_type": "execute_result",
          "data": {
            "text/plain": [
              "[5, 3, 2, 100, 4, 7, 8, 6, 9, 1, 10]"
            ]
          },
          "metadata": {},
          "execution_count": 7
        }
      ]
    },
    {
      "cell_type": "code",
      "source": [
        "num_list.remove(5) # 해당하는 값 삭제\n",
        "num_list"
      ],
      "metadata": {
        "colab": {
          "base_uri": "https://localhost:8080/"
        },
        "id": "YesP8gNjx4MI",
        "outputId": "98c7b593-1f36-43c2-cea0-4005f1d60d83"
      },
      "execution_count": 8,
      "outputs": [
        {
          "output_type": "execute_result",
          "data": {
            "text/plain": [
              "[3, 2, 100, 4, 7, 8, 6, 9, 1, 10]"
            ]
          },
          "metadata": {},
          "execution_count": 8
        }
      ]
    },
    {
      "cell_type": "code",
      "source": [
        "num_list.pop(2) # 해당 위치 값 삭제\n",
        "num_list"
      ],
      "metadata": {
        "colab": {
          "base_uri": "https://localhost:8080/"
        },
        "id": "YeGJoZXpx9JR",
        "outputId": "40b91c57-b546-4433-dc79-fa95a77f0d5e"
      },
      "execution_count": 9,
      "outputs": [
        {
          "output_type": "execute_result",
          "data": {
            "text/plain": [
              "[3, 2, 4, 7, 8, 6, 9, 1, 10]"
            ]
          },
          "metadata": {},
          "execution_count": 9
        }
      ]
    },
    {
      "cell_type": "code",
      "source": [
        "num_list.sort() # 리스트 내부 값 정렬\n",
        "num_list"
      ],
      "metadata": {
        "colab": {
          "base_uri": "https://localhost:8080/"
        },
        "id": "FxhFGsrFyDkq",
        "outputId": "0b87b059-dabc-484f-b362-baac2024c757"
      },
      "execution_count": 10,
      "outputs": [
        {
          "output_type": "execute_result",
          "data": {
            "text/plain": [
              "[1, 2, 3, 4, 6, 7, 8, 9, 10]"
            ]
          },
          "metadata": {},
          "execution_count": 10
        }
      ]
    },
    {
      "cell_type": "code",
      "source": [
        "num_list.reverse() # 리스트 내부 값 순서 뒤집기\n",
        "num_list"
      ],
      "metadata": {
        "colab": {
          "base_uri": "https://localhost:8080/"
        },
        "id": "vWfqMA8uyJ4C",
        "outputId": "b217bb8b-503f-4736-acb1-937c29ed72e2"
      },
      "execution_count": 11,
      "outputs": [
        {
          "output_type": "execute_result",
          "data": {
            "text/plain": [
              "[10, 9, 8, 7, 6, 4, 3, 2, 1]"
            ]
          },
          "metadata": {},
          "execution_count": 11
        }
      ]
    },
    {
      "cell_type": "code",
      "source": [
        "num_list.index(9) # 해당 값이 있는 위치 반환"
      ],
      "metadata": {
        "colab": {
          "base_uri": "https://localhost:8080/"
        },
        "id": "q9WKZc1tyPy9",
        "outputId": "3ea5b95a-e459-45ad-b793-241237c45246"
      },
      "execution_count": 12,
      "outputs": [
        {
          "output_type": "execute_result",
          "data": {
            "text/plain": [
              "1"
            ]
          },
          "metadata": {},
          "execution_count": 12
        }
      ]
    },
    {
      "cell_type": "code",
      "source": [
        "num_list = [1, 1, 1, 1, 2, 2, 3, 4]\n",
        "num_list.count(1) # 해당 값이 있는 개수 반환"
      ],
      "metadata": {
        "colab": {
          "base_uri": "https://localhost:8080/"
        },
        "id": "a0_XvH-7yaNX",
        "outputId": "fbf7724a-c821-4a56-8b61-89bc677f15bf"
      },
      "execution_count": 13,
      "outputs": [
        {
          "output_type": "execute_result",
          "data": {
            "text/plain": [
              "4"
            ]
          },
          "metadata": {},
          "execution_count": 13
        }
      ]
    },
    {
      "cell_type": "code",
      "source": [
        "num_list = [5, 3, 2, 4, 7, 8, 6, 9, 1]\n",
        "\n",
        "print(len(num_list)) # 리스트의 갯수를 셈\n",
        "print(sum(num_list)) # 리스트 내의 값을 모두 더함\n",
        "print(max(num_list)) # 리스트 내의 값 중 가장 큰 값을 반환\n",
        "print(min(num_list)) # 리스트 내의 값 중 가장 작은 값을 반환"
      ],
      "metadata": {
        "colab": {
          "base_uri": "https://localhost:8080/"
        },
        "id": "Ck1IKmAuymH7",
        "outputId": "7183f357-d69a-4c8d-bcca-71f5a453f65e"
      },
      "execution_count": 14,
      "outputs": [
        {
          "output_type": "stream",
          "name": "stdout",
          "text": [
            "9\n",
            "45\n",
            "9\n",
            "1\n"
          ]
        }
      ]
    },
    {
      "cell_type": "code",
      "source": [
        "bool_list = [True, True, False]\n",
        "\n",
        "print(any(bool_list)) # 리스트 내의 값이 하나라도 True일 때 True\n",
        "print(all(bool_list)) # 리스트 내의 값이 모두 True일 때 True"
      ],
      "metadata": {
        "colab": {
          "base_uri": "https://localhost:8080/"
        },
        "id": "KOISFx06y3E7",
        "outputId": "4da4d92a-2efd-46de-9f35-6544cb6b127e"
      },
      "execution_count": 15,
      "outputs": [
        {
          "output_type": "stream",
          "name": "stdout",
          "text": [
            "True\n",
            "False\n"
          ]
        }
      ]
    }
  ]
}