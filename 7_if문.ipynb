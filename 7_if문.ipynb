{
  "nbformat": 4,
  "nbformat_minor": 0,
  "metadata": {
    "colab": {
      "provenance": [],
      "authorship_tag": "ABX9TyM0Ce9e8cUfn/9su9fxM6ZL",
      "include_colab_link": true
    },
    "kernelspec": {
      "name": "python3",
      "display_name": "Python 3"
    },
    "language_info": {
      "name": "python"
    }
  },
  "cells": [
    {
      "cell_type": "markdown",
      "metadata": {
        "id": "view-in-github",
        "colab_type": "text"
      },
      "source": [
        "<a href=\"https://colab.research.google.com/github/SolBam/Python-Pra/blob/main/7_if%EB%AC%B8.ipynb\" target=\"_parent\"><img src=\"https://colab.research.google.com/assets/colab-badge.svg\" alt=\"Open In Colab\"/></a>"
      ]
    },
    {
      "cell_type": "code",
      "execution_count": 1,
      "metadata": {
        "id": "Rn8lAqQ1O-8t",
        "colab": {
          "base_uri": "https://localhost:8080/"
        },
        "outputId": "7031ad19-c216-450a-8011-54ecb9a1b810"
      },
      "outputs": [
        {
          "output_type": "stream",
          "name": "stdout",
          "text": [
            "15세 이상입니다.\n"
          ]
        }
      ],
      "source": [
        "age = 25\n",
        "\n",
        "if age >= 15:\n",
        "  print('15세 이상입니다.')"
      ]
    },
    {
      "cell_type": "code",
      "source": [
        "num = 5\n",
        "\n",
        "if num % 2 == 0:\n",
        "  print('짝수')\n",
        "else:\n",
        "  print('홀수')"
      ],
      "metadata": {
        "colab": {
          "base_uri": "https://localhost:8080/"
        },
        "id": "qqd88kOGSpWp",
        "outputId": "a4622294-9bdd-48bc-c273-c594f9cf856f"
      },
      "execution_count": 2,
      "outputs": [
        {
          "output_type": "stream",
          "name": "stdout",
          "text": [
            "홀수\n"
          ]
        }
      ]
    },
    {
      "cell_type": "code",
      "source": [
        "num = 25\n",
        "\n",
        "if num > 0:\n",
        "  print('양수')\n",
        "elif num < 0:\n",
        "  print('음수')\n",
        "else:\n",
        "  print('0')"
      ],
      "metadata": {
        "colab": {
          "base_uri": "https://localhost:8080/"
        },
        "id": "P563qRYBSwCV",
        "outputId": "90f62efd-5088-48a4-95d1-64b410c0ff54"
      },
      "execution_count": 3,
      "outputs": [
        {
          "output_type": "stream",
          "name": "stdout",
          "text": [
            "양수\n"
          ]
        }
      ]
    },
    {
      "cell_type": "code",
      "source": [
        "li = [3, 5, 1, 7, 2]\n",
        "n = 3\n",
        "\n",
        "if n in li:\n",
        "  print(f'{n} : list에 있습니다.')\n",
        "else:\n",
        "  print(f'{n} : list에 없습니다.')"
      ],
      "metadata": {
        "colab": {
          "base_uri": "https://localhost:8080/"
        },
        "id": "yWzn2iFUS6Fv",
        "outputId": "1dd983a2-04ac-4d4b-93b8-d6c5380066c1"
      },
      "execution_count": 5,
      "outputs": [
        {
          "output_type": "stream",
          "name": "stdout",
          "text": [
            "3 : list에 있습니다.\n"
          ]
        }
      ]
    },
    {
      "cell_type": "code",
      "source": [
        "text = '안녕하세요.'\n",
        "word = '안녕'\n",
        "\n",
        "if word in text:\n",
        "  print(f'{word} : text에 있습니다.')\n",
        "else:\n",
        "  print(f'{word} : text에 없습니다.')"
      ],
      "metadata": {
        "colab": {
          "base_uri": "https://localhost:8080/"
        },
        "id": "kBxAEMmhTRRw",
        "outputId": "d49f91f8-4833-464f-e68e-bb4d030f5750"
      },
      "execution_count": 6,
      "outputs": [
        {
          "output_type": "stream",
          "name": "stdout",
          "text": [
            "안녕 : text에 있습니다.\n"
          ]
        }
      ]
    },
    {
      "cell_type": "code",
      "source": [
        "week = '토요일'\n",
        "\n",
        "if week == '토요일' or week == '일요일':\n",
        "  print(f'{week} : 주말입니다.')\n",
        "else:\n",
        "  print(f'{week} : 평일입니다.')"
      ],
      "metadata": {
        "colab": {
          "base_uri": "https://localhost:8080/"
        },
        "id": "DPcBt5TyTizi",
        "outputId": "3799fdb4-6532-4a8d-d093-873b0ad66ece"
      },
      "execution_count": 7,
      "outputs": [
        {
          "output_type": "stream",
          "name": "stdout",
          "text": [
            "토요일 : 주말입니다.\n"
          ]
        }
      ]
    },
    {
      "cell_type": "code",
      "source": [
        "year, month, day = 2024, 12, 25\n",
        "\n",
        "if year == 2024 and month == 12 and day == 25:\n",
        "  print('2024년 크리스마스입니다.')\n",
        "elif month == 12 and day == 25:\n",
        "  print('2024년이 아니지만 크리스마스입니다.')\n",
        "elif year == 2024:\n",
        "  print('2024년이지만 크리스마스가 아닙니다.')\n",
        "else:\n",
        "  print('2024년이 아니고 크리스마스도 아닙니다.')"
      ],
      "metadata": {
        "colab": {
          "base_uri": "https://localhost:8080/"
        },
        "id": "2wAgdeOoTxHw",
        "outputId": "ec8cdbc7-7e6f-42d7-ace6-9af2fced196f"
      },
      "execution_count": 8,
      "outputs": [
        {
          "output_type": "stream",
          "name": "stdout",
          "text": [
            "2024년 크리스마스입니다.\n"
          ]
        }
      ]
    }
  ]
}