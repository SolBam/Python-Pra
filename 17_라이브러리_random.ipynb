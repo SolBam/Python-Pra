{
  "nbformat": 4,
  "nbformat_minor": 0,
  "metadata": {
    "colab": {
      "provenance": [],
      "authorship_tag": "ABX9TyPQ1ABlyKfXAem5N+F4yCwC",
      "include_colab_link": true
    },
    "kernelspec": {
      "name": "python3",
      "display_name": "Python 3"
    },
    "language_info": {
      "name": "python"
    }
  },
  "cells": [
    {
      "cell_type": "markdown",
      "metadata": {
        "id": "view-in-github",
        "colab_type": "text"
      },
      "source": [
        "<a href=\"https://colab.research.google.com/github/SolBam/Python-Pra/blob/main/17_%EB%9D%BC%EC%9D%B4%EB%B8%8C%EB%9F%AC%EB%A6%AC_random.ipynb\" target=\"_parent\"><img src=\"https://colab.research.google.com/assets/colab-badge.svg\" alt=\"Open In Colab\"/></a>"
      ]
    },
    {
      "cell_type": "code",
      "execution_count": 3,
      "metadata": {
        "id": "kbMMFAqOmVLt"
      },
      "outputs": [],
      "source": [
        "import random"
      ]
    },
    {
      "cell_type": "code",
      "source": [
        "# random.seed() 랜덤 시드 설정, 생략 시 시스템 시간 적용\n",
        "random.seed()"
      ],
      "metadata": {
        "id": "gy2y2cGgnCjD"
      },
      "execution_count": 5,
      "outputs": []
    },
    {
      "cell_type": "code",
      "source": [
        "# 실수 함수\n",
        "# random.random() 0.0 <= X < 1.0 사이의 랜덤 실수 값\n",
        "print(random.random())\n",
        "print(random.random())\n",
        "print(random.random())"
      ],
      "metadata": {
        "colab": {
          "base_uri": "https://localhost:8080/"
        },
        "id": "af8eIWEqnNwu",
        "outputId": "b46957ac-9e11-4e8a-d6a4-346879e0f81a"
      },
      "execution_count": 7,
      "outputs": [
        {
          "output_type": "stream",
          "name": "stdout",
          "text": [
            "0.25138643624703616\n",
            "0.7098815245400655\n",
            "0.3264660850945881\n"
          ]
        }
      ]
    },
    {
      "cell_type": "code",
      "source": [
        "# 정수 함수\n",
        "# random.randrange(start, stop, step) range 활용\n",
        "print(random.randrange(10)) # 0에서 9사이의 임의의 정수\n",
        "print(random.randrange(1, 10)) # 1에서 9사이의 임의의 정수\n",
        "print(random.randrange(1, 10, 2)) # 1, 3, 5, 7, 9 중 하나\n",
        "\n",
        "# random.randint(a, b) a <= N <= b를 만족하는 랜덤 정수값\n",
        "print(random.randint(5, 10))"
      ],
      "metadata": {
        "colab": {
          "base_uri": "https://localhost:8080/"
        },
        "id": "Ya9FMIILnaHq",
        "outputId": "8637dacc-1eb0-4a4f-a30b-447da2599922"
      },
      "execution_count": 9,
      "outputs": [
        {
          "output_type": "stream",
          "name": "stdout",
          "text": [
            "6\n",
            "1\n",
            "5\n",
            "5\n"
          ]
        }
      ]
    },
    {
      "cell_type": "code",
      "source": [
        "# 시퀸스 함수\n",
        "\n",
        "li = [1, 2, 3, 4, 5]\n",
        "tu = (10, 20, 30, 40, 50)\n",
        "text = 'abcde'"
      ],
      "metadata": {
        "id": "-jy8J6dBnycV"
      },
      "execution_count": 11,
      "outputs": []
    },
    {
      "cell_type": "code",
      "source": [
        "# random.choice(seq) 임의의 요소 반환\n",
        "print(random.choice(li))\n",
        "print(random.choice(tu))\n",
        "print(random.choice(text))"
      ],
      "metadata": {
        "colab": {
          "base_uri": "https://localhost:8080/"
        },
        "id": "gXdAoGfgoCy8",
        "outputId": "6be30dcd-2ae0-4e54-a57a-f4e50ba81e32"
      },
      "execution_count": 13,
      "outputs": [
        {
          "output_type": "stream",
          "name": "stdout",
          "text": [
            "4\n",
            "30\n",
            "c\n"
          ]
        }
      ]
    },
    {
      "cell_type": "code",
      "source": [
        "# random.choices(seq, weights, k) 중복을 허락한 K개 선택(가중치 부여)\n",
        "print(random.choices(li, k=2))\n",
        "print(random.choices(tu, k=2))\n",
        "print(random.choices(text, k=2))"
      ],
      "metadata": {
        "colab": {
          "base_uri": "https://localhost:8080/"
        },
        "id": "9-mVl6broMKs",
        "outputId": "c3428a17-9672-4957-aae7-76a420ee5a82"
      },
      "execution_count": 14,
      "outputs": [
        {
          "output_type": "stream",
          "name": "stdout",
          "text": [
            "[2, 4]\n",
            "[40, 50]\n",
            "['d', 'a']\n"
          ]
        }
      ]
    },
    {
      "cell_type": "code",
      "source": [
        "# random.sample(seq, k) 시퀸스에서 랜덤 k개를 뽑아 리스트로 반환\n",
        "print(random.sample(li, k=2))\n",
        "print(random.sample(tu, k=2))\n",
        "print(random.sample(text, k=2))"
      ],
      "metadata": {
        "colab": {
          "base_uri": "https://localhost:8080/"
        },
        "id": "qIgoJbUeoZRp",
        "outputId": "e66e63ce-d21d-4074-cb49-5ffe7ec1cf33"
      },
      "execution_count": 15,
      "outputs": [
        {
          "output_type": "stream",
          "name": "stdout",
          "text": [
            "[5, 3]\n",
            "[30, 20]\n",
            "['a', 'b']\n"
          ]
        }
      ]
    },
    {
      "cell_type": "code",
      "source": [
        "# random.shuffle(x) 원본 리스트를 랜덤한 순서로 섞기\n",
        "random.shuffle(li)\n",
        "print(li)"
      ],
      "metadata": {
        "colab": {
          "base_uri": "https://localhost:8080/"
        },
        "id": "vJudaWLwol_i",
        "outputId": "0e25c7d4-0ca4-4deb-e47b-e46bfdc2dbd4"
      },
      "execution_count": 16,
      "outputs": [
        {
          "output_type": "stream",
          "name": "stdout",
          "text": [
            "[5, 2, 4, 3, 1]\n"
          ]
        }
      ]
    },
    {
      "cell_type": "code",
      "source": [
        "def select_n_unique_random_numbers(n):\n",
        "  numbers = list(range(1, 101))\n",
        "\n",
        "  selected_numbers = random.sample(numbers, n)\n",
        "\n",
        "  return selected_numbers\n",
        "\n",
        "n = 5\n",
        "random_numbers = select_n_unique_random_numbers(n)\n",
        "\n",
        "print(f'{n}개의 중복 없는 무작위 숫자:', random_numbers)"
      ],
      "metadata": {
        "colab": {
          "base_uri": "https://localhost:8080/"
        },
        "id": "rMqj_zgnouRe",
        "outputId": "04d7c9a9-1231-4ead-fe6c-db793fd85d87"
      },
      "execution_count": 20,
      "outputs": [
        {
          "output_type": "stream",
          "name": "stdout",
          "text": [
            "5개의 중복 없는 무작위 숫자: [80, 40, 3, 99, 41]\n"
          ]
        }
      ]
    },
    {
      "cell_type": "code",
      "source": [
        "def shuffle_deck():\n",
        "  suits = ['하트', '다이아몬드', '스페이드', '클로버']\n",
        "  ranks = ['2', '3', '4', '5', '6', '7', '8', '9', '10', 'J', 'Q', 'K', 'A']\n",
        "  deck = [[rank, suit] for suit in suits for rank in ranks]\n",
        "  random.shuffle(deck)\n",
        "  return deck\n",
        "\n",
        "print('섞인 카드 덱:', shuffle_deck())"
      ],
      "metadata": {
        "colab": {
          "base_uri": "https://localhost:8080/"
        },
        "id": "j9ok3AdZpHEI",
        "outputId": "f58c72cf-feb7-40a4-bfc0-9436db5f48de"
      },
      "execution_count": 22,
      "outputs": [
        {
          "output_type": "stream",
          "name": "stdout",
          "text": [
            "섞인 카드 덱: [['4', '클로버'], ['9', '다이아몬드'], ['10', '클로버'], ['6', '하트'], ['3', '클로버'], ['8', '다이아몬드'], ['J', '다이아몬드'], ['5', '클로버'], ['A', '클로버'], ['5', '하트'], ['3', '다이아몬드'], ['5', '스페이드'], ['K', '스페이드'], ['10', '스페이드'], ['8', '하트'], ['A', '스페이드'], ['6', '클로버'], ['K', '다이아몬드'], ['Q', '스페이드'], ['Q', '다이아몬드'], ['J', '스페이드'], ['K', '클로버'], ['10', '다이아몬드'], ['J', '클로버'], ['9', '하트'], ['6', '스페이드'], ['7', '다이아몬드'], ['2', '다이아몬드'], ['2', '클로버'], ['3', '스페이드'], ['4', '하트'], ['4', '스페이드'], ['7', '스페이드'], ['3', '하트'], ['9', '스페이드'], ['J', '하트'], ['2', '스페이드'], ['8', '클로버'], ['Q', '하트'], ['7', '하트'], ['7', '클로버'], ['10', '하트'], ['4', '다이아몬드'], ['2', '하트'], ['K', '하트'], ['5', '다이아몬드'], ['Q', '클로버'], ['A', '다이아몬드'], ['9', '클로버'], ['8', '스페이드'], ['6', '다이아몬드'], ['A', '하트']]\n"
          ]
        }
      ]
    }
  ]
}