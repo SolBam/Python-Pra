{
  "nbformat": 4,
  "nbformat_minor": 0,
  "metadata": {
    "colab": {
      "provenance": [],
      "authorship_tag": "ABX9TyNcxMbmpLGEN0G+ku2pLXud",
      "include_colab_link": true
    },
    "kernelspec": {
      "name": "python3",
      "display_name": "Python 3"
    },
    "language_info": {
      "name": "python"
    }
  },
  "cells": [
    {
      "cell_type": "markdown",
      "metadata": {
        "id": "view-in-github",
        "colab_type": "text"
      },
      "source": [
        "<a href=\"https://colab.research.google.com/github/SolBam/Python-Pra/blob/main/8_for%EB%AC%B8.ipynb\" target=\"_parent\"><img src=\"https://colab.research.google.com/assets/colab-badge.svg\" alt=\"Open In Colab\"/></a>"
      ]
    },
    {
      "cell_type": "code",
      "execution_count": 2,
      "metadata": {
        "colab": {
          "base_uri": "https://localhost:8080/"
        },
        "id": "lMm18bMrUiOd",
        "outputId": "1e8e139e-4b34-4879-9b59-ff095d7a16bb"
      },
      "outputs": [
        {
          "output_type": "stream",
          "name": "stdout",
          "text": [
            "[0, 1, 2, 3]\n",
            "[3, 4, 5]\n",
            "[1, 3, 5, 7, 9]\n"
          ]
        }
      ],
      "source": [
        "print(list(range(4)))\n",
        "print(list(range(3, 6)))\n",
        "print(list(range(1, 10, 2)))"
      ]
    },
    {
      "cell_type": "code",
      "source": [
        "for i in range(1, 10, 2):\n",
        "  print(i)"
      ],
      "metadata": {
        "colab": {
          "base_uri": "https://localhost:8080/"
        },
        "id": "dNBlTc1RWHwB",
        "outputId": "de2acea0-ac15-49a3-be07-0d5751a42d0f"
      },
      "execution_count": 3,
      "outputs": [
        {
          "output_type": "stream",
          "name": "stdout",
          "text": [
            "1\n",
            "3\n",
            "5\n",
            "7\n",
            "9\n"
          ]
        }
      ]
    },
    {
      "cell_type": "code",
      "source": [
        "li = ['a', 'b', 'c']\n",
        "for i in li:\n",
        "  print(i)"
      ],
      "metadata": {
        "colab": {
          "base_uri": "https://localhost:8080/"
        },
        "id": "crxtUZOQWL7b",
        "outputId": "c60f580f-911c-4a4a-e0f5-48ddad067a4d"
      },
      "execution_count": 4,
      "outputs": [
        {
          "output_type": "stream",
          "name": "stdout",
          "text": [
            "a\n",
            "b\n",
            "c\n"
          ]
        }
      ]
    },
    {
      "cell_type": "code",
      "source": [
        "for i in range(len(li)):\n",
        "  print(i, li[i])"
      ],
      "metadata": {
        "colab": {
          "base_uri": "https://localhost:8080/"
        },
        "id": "qvxD05K1WXXg",
        "outputId": "9dfc92c2-0a04-4493-883e-828db352ff72"
      },
      "execution_count": 5,
      "outputs": [
        {
          "output_type": "stream",
          "name": "stdout",
          "text": [
            "0 a\n",
            "1 b\n",
            "2 c\n"
          ]
        }
      ]
    },
    {
      "cell_type": "code",
      "source": [
        "text = '안녕하세요'\n",
        "\n",
        "for i in text:\n",
        "  print(i)"
      ],
      "metadata": {
        "colab": {
          "base_uri": "https://localhost:8080/"
        },
        "id": "Af8XVPSXWe3K",
        "outputId": "826721e5-8fe1-49cc-97ef-60774c5b805f"
      },
      "execution_count": 6,
      "outputs": [
        {
          "output_type": "stream",
          "name": "stdout",
          "text": [
            "안\n",
            "녕\n",
            "하\n",
            "세\n",
            "요\n"
          ]
        }
      ]
    },
    {
      "cell_type": "code",
      "source": [
        "dic = {'a': 1, 'b': 2, 'c': 3}\n",
        "\n",
        "for i in dic:\n",
        "  print(i)"
      ],
      "metadata": {
        "colab": {
          "base_uri": "https://localhost:8080/"
        },
        "id": "UtVFjILfW1Qz",
        "outputId": "dde43e02-73c6-4338-fd33-8a8ff73101b6"
      },
      "execution_count": 7,
      "outputs": [
        {
          "output_type": "stream",
          "name": "stdout",
          "text": [
            "a\n",
            "b\n",
            "c\n"
          ]
        }
      ]
    },
    {
      "cell_type": "code",
      "source": [
        "for key, value in dic.items():\n",
        "  print(key, value)"
      ],
      "metadata": {
        "colab": {
          "base_uri": "https://localhost:8080/"
        },
        "id": "QsCkO_4qW8od",
        "outputId": "14f16cf7-ffc0-436e-efa7-6c9879b39e94"
      },
      "execution_count": 9,
      "outputs": [
        {
          "output_type": "stream",
          "name": "stdout",
          "text": [
            "a 1\n",
            "b 2\n",
            "c 3\n"
          ]
        }
      ]
    },
    {
      "cell_type": "code",
      "source": [
        "for key in dic.keys():\n",
        "  print(key)"
      ],
      "metadata": {
        "colab": {
          "base_uri": "https://localhost:8080/"
        },
        "id": "vu1L2ogSXII0",
        "outputId": "b20bc52f-3e93-48ea-d102-5aeac7e1b5cf"
      },
      "execution_count": 10,
      "outputs": [
        {
          "output_type": "stream",
          "name": "stdout",
          "text": [
            "a\n",
            "b\n",
            "c\n"
          ]
        }
      ]
    },
    {
      "cell_type": "code",
      "source": [
        "for value in dic.values():\n",
        "  print(value)"
      ],
      "metadata": {
        "colab": {
          "base_uri": "https://localhost:8080/"
        },
        "id": "bUh5p1tVXQ54",
        "outputId": "112a703f-a988-4f42-88df-89cf5d61a8b3"
      },
      "execution_count": 11,
      "outputs": [
        {
          "output_type": "stream",
          "name": "stdout",
          "text": [
            "1\n",
            "2\n",
            "3\n"
          ]
        }
      ]
    },
    {
      "cell_type": "code",
      "source": [
        "li1 = ['a', 'b', 'c']\n",
        "li2 = ['하나', '둘', '셋']\n",
        "\n",
        "for a, b in zip(li1, li2):\n",
        "  print(a, b)"
      ],
      "metadata": {
        "colab": {
          "base_uri": "https://localhost:8080/"
        },
        "id": "Q1eCZIE0XVFN",
        "outputId": "a16dbeb6-500c-4143-eae5-8528e5b1eef5"
      },
      "execution_count": 12,
      "outputs": [
        {
          "output_type": "stream",
          "name": "stdout",
          "text": [
            "a 하나\n",
            "b 둘\n",
            "c 셋\n"
          ]
        }
      ]
    },
    {
      "cell_type": "code",
      "source": [
        "li = ['a', 'b', 'c']\n",
        "\n",
        "for i, v in enumerate(li): # index 값과 value 값을 따로 분리시켜 줌\n",
        "  print(i, v)"
      ],
      "metadata": {
        "colab": {
          "base_uri": "https://localhost:8080/"
        },
        "id": "Rmkt3aC0XjXx",
        "outputId": "353c4a94-e7da-4ea4-9b15-a77ae5263290"
      },
      "execution_count": 13,
      "outputs": [
        {
          "output_type": "stream",
          "name": "stdout",
          "text": [
            "0 a\n",
            "1 b\n",
            "2 c\n"
          ]
        }
      ]
    }
  ]
}