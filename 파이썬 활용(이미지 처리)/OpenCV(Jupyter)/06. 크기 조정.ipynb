{
 "cells": [
  {
   "cell_type": "markdown",
   "id": "51f36680",
   "metadata": {},
   "source": [
    "# 6. 크기 조정"
   ]
  },
  {
   "cell_type": "markdown",
   "id": "9984b00c",
   "metadata": {},
   "source": [
    "## 이미지"
   ]
  },
  {
   "cell_type": "markdown",
   "id": "dd8bc663",
   "metadata": {},
   "source": [
    "고정 크기로 설정"
   ]
  },
  {
   "cell_type": "code",
   "execution_count": 1,
   "id": "f1209e94",
   "metadata": {},
   "outputs": [],
   "source": [
    "import cv2\n",
    "\n",
    "img = cv2.imread('img.jpg')\n",
    "dst = cv2.resize(img, (400, 500)) # width, height 고정 크기\n",
    "\n",
    "cv2.imshow('img', img)\n",
    "cv2.imshow('resize', dst)\n",
    "cv2.waitKey(0)\n",
    "cv2.destroyAllWindows()"
   ]
  },
  {
   "cell_type": "markdown",
   "id": "dd1c38fc",
   "metadata": {},
   "source": [
    "비율로 설정"
   ]
  },
  {
   "cell_type": "code",
   "execution_count": 3,
   "id": "77e25e46",
   "metadata": {},
   "outputs": [],
   "source": [
    "import cv2\n",
    "\n",
    "img = cv2.imread('img.jpg')\n",
    "dst = cv2.resize(img, None, fx=0.5, fy=0.5) # x, y 비율 정의(0.5배로 축소)\n",
    "\n",
    "cv2.imshow('img', img)\n",
    "cv2.imshow('resize', dst)\n",
    "cv2.waitKey(0)\n",
    "cv2.destroyAllWindows()"
   ]
  },
  {
   "cell_type": "markdown",
   "id": "7cb67720",
   "metadata": {},
   "source": [
    "### 보간법\n",
    "1. cv2.INTER_AREA : 크기 줄일 때 사용\n",
    "1. cv2.INTER_CUBIC : 크기 늘릴 때 사용(속도 느림, 퀄리티 좋음)\n",
    "1. cv2.INTER_LINEAR : 크기 늘릴 때 사용(기본값)"
   ]
  },
  {
   "cell_type": "markdown",
   "id": "a50cd689",
   "metadata": {},
   "source": [
    "보간법 적용하여 축소"
   ]
  },
  {
   "cell_type": "code",
   "execution_count": 4,
   "id": "075eed58",
   "metadata": {},
   "outputs": [],
   "source": [
    "import cv2\n",
    "\n",
    "img = cv2.imread('img.jpg')\n",
    "dst = cv2.resize(img, None, fx=0.5, fy=0.5, interpolation=cv2.INTER_AREA) # x, y 비율 정의(0.5배로 축소)\n",
    "\n",
    "cv2.imshow('img', img)\n",
    "cv2.imshow('resize', dst)\n",
    "cv2.waitKey(0)\n",
    "cv2.destroyAllWindows()"
   ]
  },
  {
   "cell_type": "markdown",
   "id": "7f0e3df5",
   "metadata": {},
   "source": [
    "보간법 적용하여 확대"
   ]
  },
  {
   "cell_type": "code",
   "execution_count": 5,
   "id": "54ae6455",
   "metadata": {},
   "outputs": [],
   "source": [
    "import cv2\n",
    "\n",
    "img = cv2.imread('img.jpg')\n",
    "dst = cv2.resize(img, None, fx=1.5, fy=1.5, interpolation=cv2.INTER_CUBIC) # x, y 비율 정의(2배로 확대)\n",
    "\n",
    "cv2.imshow('img', img)\n",
    "cv2.imshow('resize', dst)\n",
    "cv2.waitKey(0)\n",
    "cv2.destroyAllWindows()"
   ]
  },
  {
   "cell_type": "markdown",
   "id": "0b2db424",
   "metadata": {},
   "source": [
    "## 동영상"
   ]
  },
  {
   "cell_type": "markdown",
   "id": "d087c9b3",
   "metadata": {},
   "source": [
    "고정 크기로 설정"
   ]
  },
  {
   "cell_type": "code",
   "execution_count": 7,
   "id": "580dc0e7",
   "metadata": {},
   "outputs": [],
   "source": [
    "import cv2\n",
    "cap = cv2.VideoCapture('video.mp4')\n",
    "\n",
    "while cap.isOpened():\n",
    "    ret, frame = cap.read()\n",
    "    if not ret:\n",
    "        break\n",
    "    \n",
    "    frame_resized = cv2.resize(frame, (400, 500))\n",
    "        \n",
    "    cv2.imshow('video', frame_resized)\n",
    "    if cv2.waitKey(1) == ord('q'):\n",
    "        break\n",
    "        \n",
    "cap.release()\n",
    "cv2.destroyAllWindows()"
   ]
  },
  {
   "cell_type": "markdown",
   "id": "55925b9b",
   "metadata": {},
   "source": [
    "비율로 설정"
   ]
  },
  {
   "cell_type": "code",
   "execution_count": 8,
   "id": "9f7e9475",
   "metadata": {},
   "outputs": [],
   "source": [
    "import cv2\n",
    "cap = cv2.VideoCapture('video.mp4')\n",
    "\n",
    "while cap.isOpened():\n",
    "    ret, frame = cap.read()\n",
    "    if not ret:\n",
    "        break\n",
    "    \n",
    "    frame_resized = cv2.resize(frame, None, fx=1.5, fy=1.5, interpolation=cv2.INTER_CUBIC)\n",
    "        \n",
    "    cv2.imshow('video', frame_resized)\n",
    "    if cv2.waitKey(1) == ord('q'):\n",
    "        break\n",
    "        \n",
    "cap.release()\n",
    "cv2.destroyAllWindows()"
   ]
  }
 ],
 "metadata": {
  "kernelspec": {
   "display_name": "Python 3 (ipykernel)",
   "language": "python",
   "name": "python3"
  },
  "language_info": {
   "codemirror_mode": {
    "name": "ipython",
    "version": 3
   },
   "file_extension": ".py",
   "mimetype": "text/x-python",
   "name": "python",
   "nbconvert_exporter": "python",
   "pygments_lexer": "ipython3",
   "version": "3.9.16"
  }
 },
 "nbformat": 4,
 "nbformat_minor": 5
}
