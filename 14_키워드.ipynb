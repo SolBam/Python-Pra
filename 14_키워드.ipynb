{
  "nbformat": 4,
  "nbformat_minor": 0,
  "metadata": {
    "colab": {
      "provenance": [],
      "authorship_tag": "ABX9TyPE95gIk3Kx3jZJkjDdLoff",
      "include_colab_link": true
    },
    "kernelspec": {
      "name": "python3",
      "display_name": "Python 3"
    },
    "language_info": {
      "name": "python"
    }
  },
  "cells": [
    {
      "cell_type": "markdown",
      "metadata": {
        "id": "view-in-github",
        "colab_type": "text"
      },
      "source": [
        "<a href=\"https://colab.research.google.com/github/SolBam/Python-Pra/blob/main/14_%ED%82%A4%EC%9B%8C%EB%93%9C.ipynb\" target=\"_parent\"><img src=\"https://colab.research.google.com/assets/colab-badge.svg\" alt=\"Open In Colab\"/></a>"
      ]
    },
    {
      "cell_type": "code",
      "execution_count": 3,
      "metadata": {
        "colab": {
          "base_uri": "https://localhost:8080/"
        },
        "id": "pCBYZLHS0GEe",
        "outputId": "7042272d-0305-4b69-ea2d-b4f5c864fdb1"
      },
      "outputs": [
        {
          "output_type": "stream",
          "name": "stdout",
          "text": [
            "2\n",
            "2\n"
          ]
        }
      ],
      "source": [
        "num = 1\n",
        "\n",
        "def func():\n",
        "  global num\n",
        "  num = 2\n",
        "  print(num)\n",
        "\n",
        "func()\n",
        "print(num)"
      ]
    },
    {
      "cell_type": "code",
      "source": [
        "numbers = [1, 2, 3, 4, 5]\n",
        "\n",
        "for number in numbers:\n",
        "  print(number)"
      ],
      "metadata": {
        "colab": {
          "base_uri": "https://localhost:8080/"
        },
        "id": "rBYEdyiX2HG7",
        "outputId": "b1aea4f3-3b73-4243-b2b6-9e254ab41a6b"
      },
      "execution_count": 4,
      "outputs": [
        {
          "output_type": "stream",
          "name": "stdout",
          "text": [
            "1\n",
            "2\n",
            "3\n",
            "4\n",
            "5\n"
          ]
        }
      ]
    },
    {
      "cell_type": "code",
      "source": [
        "numbers = [1, 2, 3, 4, 5]\n",
        "\n",
        "print(2 in numbers)\n",
        "print(6 in numbers)"
      ],
      "metadata": {
        "colab": {
          "base_uri": "https://localhost:8080/"
        },
        "id": "Mlq6Sx2q2ZAe",
        "outputId": "eb0e7feb-00b4-4a4d-fe48-175133203618"
      },
      "execution_count": 5,
      "outputs": [
        {
          "output_type": "stream",
          "name": "stdout",
          "text": [
            "True\n",
            "False\n"
          ]
        }
      ]
    },
    {
      "cell_type": "code",
      "source": [
        "text = 'Hello. World!'\n",
        "\n",
        "print('World' in text)\n",
        "print('universe' in text)"
      ],
      "metadata": {
        "colab": {
          "base_uri": "https://localhost:8080/"
        },
        "id": "ej-YIxJQ2eW7",
        "outputId": "cf654250-7cd2-4206-8af9-bbb0131529fa"
      },
      "execution_count": 6,
      "outputs": [
        {
          "output_type": "stream",
          "name": "stdout",
          "text": [
            "True\n",
            "False\n"
          ]
        }
      ]
    },
    {
      "cell_type": "code",
      "source": [
        "# 변수 삭제\n",
        "x = 50\n",
        "\n",
        "print(x)\n",
        "\n",
        "del x\n",
        "\n",
        "print(x)"
      ],
      "metadata": {
        "id": "JFT_vHUK2mRO"
      },
      "execution_count": null,
      "outputs": []
    },
    {
      "cell_type": "code",
      "source": [
        "# 객체 삭제\n",
        "my_list = [1, 2, 3]\n",
        "\n",
        "print(my_list)\n",
        "\n",
        "del my_list\n",
        "\n",
        "print(my_list)"
      ],
      "metadata": {
        "id": "w0MgIycz2tpB"
      },
      "execution_count": null,
      "outputs": []
    },
    {
      "cell_type": "code",
      "source": [
        "# 슬라이스 삭제\n",
        "my_list = [1, 2, 3, 4, 5]\n",
        "\n",
        "print(my_list)\n",
        "\n",
        "del my_list[1:3]\n",
        "\n",
        "print(my_list)"
      ],
      "metadata": {
        "colab": {
          "base_uri": "https://localhost:8080/"
        },
        "id": "LHO8tELa22Eq",
        "outputId": "ce662c17-cd08-4145-b4fc-1836586d9b5e"
      },
      "execution_count": 9,
      "outputs": [
        {
          "output_type": "stream",
          "name": "stdout",
          "text": [
            "[1, 2, 3, 4, 5]\n",
            "[1, 4, 5]\n"
          ]
        }
      ]
    },
    {
      "cell_type": "code",
      "source": [
        "# 객체의 속성 삭제\n",
        "class MyClass:\n",
        "  def __init__(self, name, age):\n",
        "    self.name = name\n",
        "    self.age = age\n",
        "\n",
        "my_class = MyClass('John', 30)\n",
        "\n",
        "print(my_class.name)\n",
        "print(my_class.age)\n",
        "\n",
        "del my_class.age\n",
        "\n",
        "print(my_class.name)\n",
        "print(my_class.age)"
      ],
      "metadata": {
        "id": "ivL9vf0q29B7"
      },
      "execution_count": null,
      "outputs": []
    },
    {
      "cell_type": "code",
      "source": [
        "# 일반적인 함수 만들기\n",
        "def add(x, y):\n",
        "  return x + y\n",
        "\n",
        "print(add(5, 6))"
      ],
      "metadata": {
        "colab": {
          "base_uri": "https://localhost:8080/"
        },
        "id": "8YEDoqa53P3v",
        "outputId": "5afe263b-8812-4731-d953-571670d85f43"
      },
      "execution_count": 11,
      "outputs": [
        {
          "output_type": "stream",
          "name": "stdout",
          "text": [
            "11\n"
          ]
        }
      ]
    },
    {
      "cell_type": "code",
      "source": [
        "# 간단한 익명 함수 만들기\n",
        "add = lambda x, y: x + y\n",
        "\n",
        "print(add(5, 6))"
      ],
      "metadata": {
        "colab": {
          "base_uri": "https://localhost:8080/"
        },
        "id": "BQVWaQIp3VZ7",
        "outputId": "01143357-20b2-4502-fd5e-75ea9e3c4635"
      },
      "execution_count": 12,
      "outputs": [
        {
          "output_type": "stream",
          "name": "stdout",
          "text": [
            "11\n"
          ]
        }
      ]
    },
    {
      "cell_type": "code",
      "source": [
        "# 익명 함수를 인자로 전달하기\n",
        "def apply_function(func, arg1, arg2):\n",
        "  return func(arg1, arg2)\n",
        "\n",
        "result = apply_function(lambda x, y: x * y, 5, 6)\n",
        "\n",
        "print(result)"
      ],
      "metadata": {
        "colab": {
          "base_uri": "https://localhost:8080/"
        },
        "id": "3DuOf-EG3bNR",
        "outputId": "5a06f323-4cff-4254-9def-feb848a2c056"
      },
      "execution_count": 13,
      "outputs": [
        {
          "output_type": "stream",
          "name": "stdout",
          "text": [
            "30\n"
          ]
        }
      ]
    },
    {
      "cell_type": "code",
      "source": [
        "# 익명 함수를 반환하기\n",
        "def create_multiplier(factor):\n",
        "  return lambda x: x * factor\n",
        "\n",
        "double = create_multiplier(2)\n",
        "triple = create_multiplier(3)\n",
        "\n",
        "print(double(5))\n",
        "print(triple(5))"
      ],
      "metadata": {
        "colab": {
          "base_uri": "https://localhost:8080/"
        },
        "id": "Qnsaj3kE3rQZ",
        "outputId": "773c50b0-a19a-4d29-e909-63e87b8c242b"
      },
      "execution_count": 15,
      "outputs": [
        {
          "output_type": "stream",
          "name": "stdout",
          "text": [
            "10\n",
            "15\n"
          ]
        }
      ]
    }
  ]
}