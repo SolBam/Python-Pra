{
  "nbformat": 4,
  "nbformat_minor": 0,
  "metadata": {
    "colab": {
      "provenance": [],
      "authorship_tag": "ABX9TyMF7H+hGV6QQ5hHRnPnfIFX",
      "include_colab_link": true
    },
    "kernelspec": {
      "name": "python3",
      "display_name": "Python 3"
    },
    "language_info": {
      "name": "python"
    }
  },
  "cells": [
    {
      "cell_type": "markdown",
      "metadata": {
        "id": "view-in-github",
        "colab_type": "text"
      },
      "source": [
        "<a href=\"https://colab.research.google.com/github/SolBam/Python-Pra/blob/main/15_%EB%82%B4%EC%9E%A5%ED%95%A8%EC%88%98.ipynb\" target=\"_parent\"><img src=\"https://colab.research.google.com/assets/colab-badge.svg\" alt=\"Open In Colab\"/></a>"
      ]
    },
    {
      "cell_type": "code",
      "execution_count": 1,
      "metadata": {
        "colab": {
          "base_uri": "https://localhost:8080/"
        },
        "id": "hkQEtJUTXGyT",
        "outputId": "05b6229a-2d54-4d61-bc19-d2838ae9d547"
      },
      "outputs": [
        {
          "output_type": "stream",
          "name": "stdout",
          "text": [
            "False\n",
            "True\n"
          ]
        }
      ],
      "source": [
        "numbers = [1, 2, 3, 4, 5]\n",
        "\n",
        "# 리스트의 모든 요소가 짝수인지 확인\n",
        "all_even = all(number % 2 == 0 for number in numbers)\n",
        "print(all_even)\n",
        "\n",
        "# 리스트의 모든 요소가 0보다 큰지 확인\n",
        "all_positive = all(number > 0 for number in numbers)\n",
        "print(all_positive)"
      ]
    },
    {
      "cell_type": "code",
      "source": [
        "strings = ['hello', 'hi', 'world', 'python']\n",
        "\n",
        "# 리스트의 요소 중 하나라도 비어 있는 문자열인지 확인\n",
        "any_empty = any(string == '' for string in strings)\n",
        "print(any_empty)\n",
        "\n",
        "# 리스트의 요소 중 하나라도 'hello'인지 확인\n",
        "any_hello = any(string == 'hello' for string in strings)\n",
        "print(any_hello)"
      ],
      "metadata": {
        "colab": {
          "base_uri": "https://localhost:8080/"
        },
        "id": "kMyds69ZX4Xz",
        "outputId": "ef4da2bb-4b52-4588-ecf4-ed90dd399f48"
      },
      "execution_count": 3,
      "outputs": [
        {
          "output_type": "stream",
          "name": "stdout",
          "text": [
            "False\n",
            "True\n"
          ]
        }
      ]
    },
    {
      "cell_type": "code",
      "source": [
        "print(bin(20))\n",
        "print(oct(20))\n",
        "print(hex(20))\n",
        "\n",
        "print(int('0b10100', 2))\n",
        "print(int('0o24', 8))\n",
        "print(int('0x14', 16))"
      ],
      "metadata": {
        "colab": {
          "base_uri": "https://localhost:8080/"
        },
        "id": "U1iLgTGcYOaU",
        "outputId": "e9759c0d-a758-479c-e004-d312d2f9e6f7"
      },
      "execution_count": 4,
      "outputs": [
        {
          "output_type": "stream",
          "name": "stdout",
          "text": [
            "0b10100\n",
            "0o24\n",
            "0x14\n",
            "20\n",
            "20\n",
            "20\n"
          ]
        }
      ]
    },
    {
      "cell_type": "code",
      "source": [
        "numbers = [1, 2, 3, 4, 5]\n",
        "\n",
        "for number in reversed(numbers):\n",
        "  print(number, end='')\n",
        "\n",
        "print()\n",
        "\n",
        "string = 'hello world'\n",
        "\n",
        "for char in reversed(string):\n",
        "  print(char, end='')"
      ],
      "metadata": {
        "colab": {
          "base_uri": "https://localhost:8080/"
        },
        "id": "432rZYTZYa2D",
        "outputId": "d3040ed1-7208-474f-e437-7893cc021543"
      },
      "execution_count": 5,
      "outputs": [
        {
          "output_type": "stream",
          "name": "stdout",
          "text": [
            "54321\n",
            "dlrow olleh"
          ]
        }
      ]
    },
    {
      "cell_type": "code",
      "source": [
        "# 리스트 정렬\n",
        "numbers = [5, 2, 8, 1, 4]\n",
        "\n",
        "sorted_numbers1 = sorted(numbers)\n",
        "print(sorted_numbers1)\n",
        "\n",
        "sorted_numbers2 = sorted(numbers, reverse=True)\n",
        "print(sorted_numbers2)"
      ],
      "metadata": {
        "colab": {
          "base_uri": "https://localhost:8080/"
        },
        "id": "cH06G5l2Ysop",
        "outputId": "a54db6d1-1e9c-4612-bbd7-d219675968e3"
      },
      "execution_count": 7,
      "outputs": [
        {
          "output_type": "stream",
          "name": "stdout",
          "text": [
            "[1, 2, 4, 5, 8]\n",
            "[8, 5, 4, 2, 1]\n"
          ]
        }
      ]
    },
    {
      "cell_type": "code",
      "source": [
        "# 문자열 정렬\n",
        "strings = ['hello', 'world', 'apple', 'banana']\n",
        "\n",
        "# 사전순으로 오름차순으로 정렬\n",
        "sorted_strings = sorted(strings)\n",
        "print(sorted_strings)"
      ],
      "metadata": {
        "colab": {
          "base_uri": "https://localhost:8080/"
        },
        "id": "4YROEc1IZCP9",
        "outputId": "4df45b01-7624-4aba-c38f-be815d36c9fd"
      },
      "execution_count": 8,
      "outputs": [
        {
          "output_type": "stream",
          "name": "stdout",
          "text": [
            "['apple', 'banana', 'hello', 'world']\n"
          ]
        }
      ]
    },
    {
      "cell_type": "code",
      "source": [
        "# 중첩 리스트 정렬(key 활용)\n",
        "nested_list = [[5, 3], [7, 2], [6, 1]]\n",
        "\n",
        "sorted_list1 = sorted(nested_list)\n",
        "print(sorted_list1)\n",
        "\n",
        "sorted_list2 = sorted(nested_list, key=lambda x: x[1])\n",
        "print(sorted_list2)"
      ],
      "metadata": {
        "colab": {
          "base_uri": "https://localhost:8080/"
        },
        "id": "8NyfomPSZMvA",
        "outputId": "0b598b3c-803e-4d19-d205-2daced22e158"
      },
      "execution_count": 9,
      "outputs": [
        {
          "output_type": "stream",
          "name": "stdout",
          "text": [
            "[[5, 3], [6, 1], [7, 2]]\n",
            "[[6, 1], [7, 2], [5, 3]]\n"
          ]
        }
      ]
    },
    {
      "cell_type": "code",
      "source": [
        "# 중첩 리스트 정렬(key, reverse 활용)\n",
        "nested_list = [['apple', 10], ['banana', 5], ['strawberry', 20]]\n",
        "\n",
        "# 각 리스트의 두 번째 요소를 기준으로 내림차순으로 정렬\n",
        "sorted_list1 = sorted(nested_list, key=lambda x: x[1], reverse=True)\n",
        "print(sorted_list1)\n",
        "\n",
        "# 각 리스트의 첫 번째 요소의 길이를 기준으로 내림차순으로 정렬\n",
        "sorted_list2 = sorted(nested_list, key=lambda x: len(x[0]), reverse=True)\n",
        "print(sorted_list2)"
      ],
      "metadata": {
        "colab": {
          "base_uri": "https://localhost:8080/"
        },
        "id": "m2FzEIHwZmeO",
        "outputId": "5d88d124-026b-4a61-c8c0-3292339d6eb6"
      },
      "execution_count": 10,
      "outputs": [
        {
          "output_type": "stream",
          "name": "stdout",
          "text": [
            "[['strawberry', 20], ['apple', 10], ['banana', 5]]\n",
            "[['strawberry', 20], ['banana', 5], ['apple', 10]]\n"
          ]
        }
      ]
    },
    {
      "cell_type": "code",
      "source": [
        "# 딕셔너리 정렬(key 활용)\n",
        "people = [\n",
        "    {'name': 'John', 'age': 30},\n",
        "    {'name': 'Mary', 'age': 25},\n",
        "    {'name': 'Bob', 'age': 17}\n",
        "]\n",
        "\n",
        "# 나이를 기준으로 오름차순으로 정렬\n",
        "sorted_people = sorted(people, key=lambda x: x['age'])\n",
        "print(sorted_people)"
      ],
      "metadata": {
        "colab": {
          "base_uri": "https://localhost:8080/"
        },
        "id": "sm4VA6j3aItV",
        "outputId": "4b907c07-bc8d-432e-efd4-c134761a745f"
      },
      "execution_count": 12,
      "outputs": [
        {
          "output_type": "stream",
          "name": "stdout",
          "text": [
            "[{'name': 'Bob', 'age': 17}, {'name': 'Mary', 'age': 25}, {'name': 'John', 'age': 30}]\n"
          ]
        }
      ]
    },
    {
      "cell_type": "code",
      "source": [
        "numbers = [1, 3, 5, 7, 9]\n",
        "\n",
        "for number in numbers:\n",
        "  print(f'Number: {number}')"
      ],
      "metadata": {
        "colab": {
          "base_uri": "https://localhost:8080/"
        },
        "id": "9Z532rJ9cnem",
        "outputId": "2992a782-09ff-4821-b185-09e79e9797ce"
      },
      "execution_count": 13,
      "outputs": [
        {
          "output_type": "stream",
          "name": "stdout",
          "text": [
            "Number: 1\n",
            "Number: 3\n",
            "Number: 5\n",
            "Number: 7\n",
            "Number: 9\n"
          ]
        }
      ]
    },
    {
      "cell_type": "code",
      "source": [
        "numbers = [1, 3, 5, 7, 9]\n",
        "\n",
        "for i in range(len(numbers)):\n",
        "  print(f'Index: {i}, Number: {numbers[i]}')"
      ],
      "metadata": {
        "colab": {
          "base_uri": "https://localhost:8080/"
        },
        "id": "BYDJ0elkcvbl",
        "outputId": "c2269b81-1bd4-444f-9dc5-7a4a6706fcc0"
      },
      "execution_count": 15,
      "outputs": [
        {
          "output_type": "stream",
          "name": "stdout",
          "text": [
            "Index: 0, Number: 1\n",
            "Index: 1, Number: 3\n",
            "Index: 2, Number: 5\n",
            "Index: 3, Number: 7\n",
            "Index: 4, Number: 9\n"
          ]
        }
      ]
    },
    {
      "cell_type": "code",
      "source": [
        "numbers = [1, 3, 5, 7, 9]\n",
        "\n",
        "for index, number in enumerate(numbers):\n",
        "  print(f'Index: {index}, Number: {number}')"
      ],
      "metadata": {
        "colab": {
          "base_uri": "https://localhost:8080/"
        },
        "id": "HhxNxDkac8cD",
        "outputId": "a3ddda0b-7a24-4c62-b4a1-83c066640809"
      },
      "execution_count": 16,
      "outputs": [
        {
          "output_type": "stream",
          "name": "stdout",
          "text": [
            "Index: 0, Number: 1\n",
            "Index: 1, Number: 3\n",
            "Index: 2, Number: 5\n",
            "Index: 3, Number: 7\n",
            "Index: 4, Number: 9\n"
          ]
        }
      ]
    },
    {
      "cell_type": "code",
      "source": [
        "dic = {'name': 'John', 'age': 30, 'city': 'Seoul'}\n",
        "\n",
        "for key in dic:\n",
        "  print(f'Key: {key}, value: {dic[key]}')"
      ],
      "metadata": {
        "colab": {
          "base_uri": "https://localhost:8080/"
        },
        "id": "9YiaqKKpdIsh",
        "outputId": "7f390d6c-23ca-4abc-a9b1-42a37722efa4"
      },
      "execution_count": 17,
      "outputs": [
        {
          "output_type": "stream",
          "name": "stdout",
          "text": [
            "Key: name, value: John\n",
            "Key: age, value: 30\n",
            "Key: city, value: Seoul\n"
          ]
        }
      ]
    },
    {
      "cell_type": "code",
      "source": [
        "dic = {'name': 'John', 'age': 30, 'city': 'Seoul'}\n",
        "\n",
        "for index, key in enumerate(dic):\n",
        "  print(f'Index: {index}, key: {key}, value: {dic[key]}')"
      ],
      "metadata": {
        "colab": {
          "base_uri": "https://localhost:8080/"
        },
        "id": "qyEEpvoSdUFI",
        "outputId": "8f021673-9e12-401f-d3e8-9e57c6823f8e"
      },
      "execution_count": 18,
      "outputs": [
        {
          "output_type": "stream",
          "name": "stdout",
          "text": [
            "Index: 0, key: name, value: John\n",
            "Index: 1, key: age, value: 30\n",
            "Index: 2, key: city, value: Seoul\n"
          ]
        }
      ]
    },
    {
      "cell_type": "code",
      "source": [
        "numbers = [3, 5, 4, 6, 8, 7, 9, 1, 2, 10]\n",
        "\n",
        "for i in range(len(numbers)):\n",
        "  if numbers[i] % 2 == 0:\n",
        "    print(i, end=' ')"
      ],
      "metadata": {
        "colab": {
          "base_uri": "https://localhost:8080/"
        },
        "id": "eSRDG3hvdmIP",
        "outputId": "82e4b7c4-ea8a-4c8f-f66d-a0c882158c95"
      },
      "execution_count": 20,
      "outputs": [
        {
          "output_type": "stream",
          "name": "stdout",
          "text": [
            "2 3 4 8 9 "
          ]
        }
      ]
    },
    {
      "cell_type": "code",
      "source": [
        "numbers = [3, 5, 4, 6, 8, 7, 9, 1, 2, 10]\n",
        "\n",
        "for index, value in enumerate(numbers):\n",
        "  if value % 2 == 0:\n",
        "    print(index, end=' ')"
      ],
      "metadata": {
        "colab": {
          "base_uri": "https://localhost:8080/"
        },
        "id": "hcW7K2L9du5h",
        "outputId": "b1ec3bad-061d-4827-e6d5-9cd390f24c1a"
      },
      "execution_count": 21,
      "outputs": [
        {
          "output_type": "stream",
          "name": "stdout",
          "text": [
            "2 3 4 8 9 "
          ]
        }
      ]
    },
    {
      "cell_type": "code",
      "source": [
        "rows = zip([1, 2, 3], ['a', 'b', 'c'], [True, False, True])\n",
        "\n",
        "print(list(rows))"
      ],
      "metadata": {
        "colab": {
          "base_uri": "https://localhost:8080/"
        },
        "id": "FE3orJ1Yd-VQ",
        "outputId": "e140051e-94de-4382-ba27-1cb73d258660"
      },
      "execution_count": 22,
      "outputs": [
        {
          "output_type": "stream",
          "name": "stdout",
          "text": [
            "[(1, 'a', True), (2, 'b', False), (3, 'c', True)]\n"
          ]
        }
      ]
    },
    {
      "cell_type": "code",
      "source": [
        "numbers = [1, 2, 3]\n",
        "String = ['a', 'b', 'c']\n",
        "booleans = [True, False, True]\n",
        "\n",
        "for i in range(3):\n",
        "  print(f'Number: {numbers[i]}, String: {String[i]}, Boolean: {booleans[i]}')"
      ],
      "metadata": {
        "colab": {
          "base_uri": "https://localhost:8080/"
        },
        "id": "dZS2zLFUeFKe",
        "outputId": "d5bbbf7f-0b2e-4b83-c259-29449457fb45"
      },
      "execution_count": 23,
      "outputs": [
        {
          "output_type": "stream",
          "name": "stdout",
          "text": [
            "Number: 1, String: a, Boolean: True\n",
            "Number: 2, String: b, Boolean: False\n",
            "Number: 3, String: c, Boolean: True\n"
          ]
        }
      ]
    },
    {
      "cell_type": "code",
      "source": [
        "numbers = [1, 2, 3]\n",
        "String = ['a', 'b', 'c']\n",
        "booleans = [True, False, True]\n",
        "\n",
        "for number, string, boolean in zip(numbers, String, booleans):\n",
        "  print(f'Number: {number}, String: {string}, Boolean: {boolean}')"
      ],
      "metadata": {
        "colab": {
          "base_uri": "https://localhost:8080/"
        },
        "id": "G9-eDalBeUMV",
        "outputId": "5d652a6b-13d6-4b09-e14d-b07de304d2b5"
      },
      "execution_count": 24,
      "outputs": [
        {
          "output_type": "stream",
          "name": "stdout",
          "text": [
            "Number: 1, String: a, Boolean: True\n",
            "Number: 2, String: b, Boolean: False\n",
            "Number: 3, String: c, Boolean: True\n"
          ]
        }
      ]
    },
    {
      "cell_type": "code",
      "source": [
        "list1 = [1, 2, 3, 4, 5]\n",
        "list2 = [10, 20, 30, 40, 50]\n",
        "\n",
        "total = 0\n",
        "\n",
        "for n1, n2 in zip(list1, list2):\n",
        "  total += n1 * n2\n",
        "\n",
        "average = total / len(list1)\n",
        "\n",
        "print('두 리스트 요소들의 곱의 평균:', average)"
      ],
      "metadata": {
        "colab": {
          "base_uri": "https://localhost:8080/"
        },
        "id": "Z-lN1icjehUC",
        "outputId": "de44f8bf-31a1-4399-b93c-7d3c58572f0c"
      },
      "execution_count": 26,
      "outputs": [
        {
          "output_type": "stream",
          "name": "stdout",
          "text": [
            "두 리스트 요소들의 곱의 평균: 110.0\n"
          ]
        }
      ]
    },
    {
      "cell_type": "code",
      "source": [
        "numbers = ['1', '2', '3', '4', '5']\n",
        "\n",
        "int_numbers = int(numbers)"
      ],
      "metadata": {
        "colab": {
          "base_uri": "https://localhost:8080/",
          "height": 200
        },
        "collapsed": true,
        "id": "QXmu8yljevkp",
        "outputId": "8b9a7c74-f6dc-4dff-fdda-311ac644a0be"
      },
      "execution_count": 27,
      "outputs": [
        {
          "output_type": "error",
          "ename": "TypeError",
          "evalue": "int() argument must be a string, a bytes-like object or a real number, not 'list'",
          "traceback": [
            "\u001b[0;31m---------------------------------------------------------------------------\u001b[0m",
            "\u001b[0;31mTypeError\u001b[0m                                 Traceback (most recent call last)",
            "\u001b[0;32m<ipython-input-27-9663fc01fa85>\u001b[0m in \u001b[0;36m<cell line: 3>\u001b[0;34m()\u001b[0m\n\u001b[1;32m      1\u001b[0m \u001b[0mnumbers\u001b[0m \u001b[0;34m=\u001b[0m \u001b[0;34m[\u001b[0m\u001b[0;34m'1'\u001b[0m\u001b[0;34m,\u001b[0m \u001b[0;34m'2'\u001b[0m\u001b[0;34m,\u001b[0m \u001b[0;34m'3'\u001b[0m\u001b[0;34m,\u001b[0m \u001b[0;34m'4'\u001b[0m\u001b[0;34m,\u001b[0m \u001b[0;34m'5'\u001b[0m\u001b[0;34m]\u001b[0m\u001b[0;34m\u001b[0m\u001b[0;34m\u001b[0m\u001b[0m\n\u001b[1;32m      2\u001b[0m \u001b[0;34m\u001b[0m\u001b[0m\n\u001b[0;32m----> 3\u001b[0;31m \u001b[0mint_numbers\u001b[0m \u001b[0;34m=\u001b[0m \u001b[0mint\u001b[0m\u001b[0;34m(\u001b[0m\u001b[0mnumbers\u001b[0m\u001b[0;34m)\u001b[0m\u001b[0;34m\u001b[0m\u001b[0;34m\u001b[0m\u001b[0m\n\u001b[0m",
            "\u001b[0;31mTypeError\u001b[0m: int() argument must be a string, a bytes-like object or a real number, not 'list'"
          ]
        }
      ]
    },
    {
      "cell_type": "code",
      "source": [
        "numbers = ['1', '2', '3', '4', '5']\n",
        "\n",
        "int_numbers = []\n",
        "\n",
        "for n in numbers:\n",
        "  int_numbers.append(int(n))\n",
        "\n",
        "print(int_numbers)"
      ],
      "metadata": {
        "colab": {
          "base_uri": "https://localhost:8080/"
        },
        "id": "fwmfIr_vfA23",
        "outputId": "fe63b297-5a45-4e7f-ef3f-0bd5b799238e"
      },
      "execution_count": 28,
      "outputs": [
        {
          "output_type": "stream",
          "name": "stdout",
          "text": [
            "[1, 2, 3, 4, 5]\n"
          ]
        }
      ]
    },
    {
      "cell_type": "code",
      "source": [
        "numbers = ['1', '2', '3', '4', '5']\n",
        "\n",
        "int_numbers = list(map(int, numbers))\n",
        "\n",
        "print(int_numbers)"
      ],
      "metadata": {
        "colab": {
          "base_uri": "https://localhost:8080/"
        },
        "id": "UmANBySBfKFR",
        "outputId": "b8d0999c-28d2-494e-821f-7cb0060a5c34"
      },
      "execution_count": 29,
      "outputs": [
        {
          "output_type": "stream",
          "name": "stdout",
          "text": [
            "[1, 2, 3, 4, 5]\n"
          ]
        }
      ]
    },
    {
      "cell_type": "code",
      "source": [
        "numbers = [1, 2, 3, 4, 5]\n",
        "\n",
        "def multiply_by_two(number):\n",
        "  return number * 2\n",
        "\n",
        "doubled_numbers = list(map(multiply_by_two, numbers))\n",
        "print(doubled_numbers)"
      ],
      "metadata": {
        "colab": {
          "base_uri": "https://localhost:8080/"
        },
        "id": "fM1ZsdamfRhG",
        "outputId": "6f444dd8-43cb-4364-bf38-60b1751d2e23"
      },
      "execution_count": 30,
      "outputs": [
        {
          "output_type": "stream",
          "name": "stdout",
          "text": [
            "[2, 4, 6, 8, 10]\n"
          ]
        }
      ]
    },
    {
      "cell_type": "code",
      "source": [
        "numbers = [1, 2, 3, 4, 5, 6, 7, 8, 9, 10]\n",
        "\n",
        "def is_even(number):\n",
        "  if number % 2 == 0:\n",
        "    return True\n",
        "  else:\n",
        "    return False\n",
        "\n",
        "even_numbers = []\n",
        "\n",
        "for n in numbers:\n",
        "  if is_even(n):\n",
        "    even_numbers.append(n)\n",
        "\n",
        "print(even_numbers)"
      ],
      "metadata": {
        "colab": {
          "base_uri": "https://localhost:8080/"
        },
        "id": "6TTcWrDpff7X",
        "outputId": "343be2b2-98de-40e1-e4d6-be533cc383ee"
      },
      "execution_count": 32,
      "outputs": [
        {
          "output_type": "stream",
          "name": "stdout",
          "text": [
            "[2, 4, 6, 8, 10]\n"
          ]
        }
      ]
    },
    {
      "cell_type": "code",
      "source": [
        "numbers = [1, 2, 3, 4, 5, 6, 7, 8, 9, 10]\n",
        "\n",
        "def is_even(number):\n",
        "  if number % 2 == 0:\n",
        "    return True\n",
        "  else:\n",
        "    return False\n",
        "\n",
        "even_numbers = list(filter(is_even, numbers))\n",
        "\n",
        "print(even_numbers)"
      ],
      "metadata": {
        "colab": {
          "base_uri": "https://localhost:8080/"
        },
        "id": "D8ps6sPgfy6o",
        "outputId": "f5563902-6bab-425c-aa73-4f6b4fd42284"
      },
      "execution_count": 34,
      "outputs": [
        {
          "output_type": "stream",
          "name": "stdout",
          "text": [
            "[2, 4, 6, 8, 10]\n"
          ]
        }
      ]
    },
    {
      "cell_type": "code",
      "source": [
        "people = [\n",
        "    {'name': 'John', 'age': 30, 'gender': 'male'},\n",
        "    {'name': 'Mary', 'age': 25, 'gender': 'female'},\n",
        "    {'name': 'Bob', 'age': 17, 'gender': 'male'},\n",
        "    {'name': 'Alice', 'age': 22, 'gender': 'female'}\n",
        "]\n",
        "\n",
        "male_people = list(filter(lambda person: person['gender'] == 'male', people))\n",
        "\n",
        "print(male_people)"
      ],
      "metadata": {
        "colab": {
          "base_uri": "https://localhost:8080/"
        },
        "id": "4UqR624tgEyC",
        "outputId": "dc9d2ab0-a6b7-49d9-d2f3-670c701b8f15"
      },
      "execution_count": 36,
      "outputs": [
        {
          "output_type": "stream",
          "name": "stdout",
          "text": [
            "[{'name': 'John', 'age': 30, 'gender': 'male'}, {'name': 'Bob', 'age': 17, 'gender': 'male'}]\n"
          ]
        }
      ]
    }
  ]
}