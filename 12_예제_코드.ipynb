{
  "nbformat": 4,
  "nbformat_minor": 0,
  "metadata": {
    "colab": {
      "provenance": [],
      "authorship_tag": "ABX9TyO2aEZ7wJmGDT5BaRxeRKGd",
      "include_colab_link": true
    },
    "kernelspec": {
      "name": "python3",
      "display_name": "Python 3"
    },
    "language_info": {
      "name": "python"
    }
  },
  "cells": [
    {
      "cell_type": "markdown",
      "metadata": {
        "id": "view-in-github",
        "colab_type": "text"
      },
      "source": [
        "<a href=\"https://colab.research.google.com/github/SolBam/Python-Pra/blob/main/12_%EC%98%88%EC%A0%9C_%EC%BD%94%EB%93%9C.ipynb\" target=\"_parent\"><img src=\"https://colab.research.google.com/assets/colab-badge.svg\" alt=\"Open In Colab\"/></a>"
      ]
    },
    {
      "cell_type": "code",
      "execution_count": 1,
      "metadata": {
        "colab": {
          "base_uri": "https://localhost:8080/"
        },
        "id": "Ejaqjw8Dg2qw",
        "outputId": "8fde299c-8261-4d86-80fc-8553f61b2e0e"
      },
      "outputs": [
        {
          "output_type": "stream",
          "name": "stdout",
          "text": [
            "3\n",
            "3\n"
          ]
        }
      ],
      "source": [
        "# abs(x): 숫자 x의 절댓값을 반환\n",
        "\n",
        "print(abs(-3))\n",
        "print(abs(3))"
      ]
    },
    {
      "cell_type": "code",
      "source": [
        "# round(x, n): 숫자 x를 소수점 이하 n자리까지 반올림\n",
        "# n이 생략되면 기본적으로 0으로 간주되어 정수로 반올림\n",
        "\n",
        "print(round(3, 3))\n",
        "print(round(3, 6))\n",
        "print(round(3.3333, 1))"
      ],
      "metadata": {
        "colab": {
          "base_uri": "https://localhost:8080/"
        },
        "id": "Iw8R6EkChe3t",
        "outputId": "fa66a203-0b7a-4ede-9c56-aa566ba0ad1e"
      },
      "execution_count": 2,
      "outputs": [
        {
          "output_type": "stream",
          "name": "stdout",
          "text": [
            "3\n",
            "3\n",
            "3.3\n"
          ]
        }
      ]
    },
    {
      "cell_type": "code",
      "source": [
        "# ord(c): 문자 c의 아스키 코드를 반환\n",
        "# chr(i): 아스키 코드 i에 해당하는 문자를 반환\n",
        "\n",
        "print(ord('A'))\n",
        "print(chr(65))"
      ],
      "metadata": {
        "colab": {
          "base_uri": "https://localhost:8080/"
        },
        "id": "EAdSqhJ5hvT-",
        "outputId": "06344f1a-9a71-46d9-eb36-8753a69d32cd"
      },
      "execution_count": 3,
      "outputs": [
        {
          "output_type": "stream",
          "name": "stdout",
          "text": [
            "65\n",
            "A\n"
          ]
        }
      ]
    },
    {
      "cell_type": "code",
      "source": [
        "# map(function, iterable): 주어진 함수를 반복 가능한 객체의 각 요소에 적용한 결과를 반환\n",
        "\n",
        "li = [1, 2, -3, -4]\n",
        "print(list(map(abs, li)))"
      ],
      "metadata": {
        "colab": {
          "base_uri": "https://localhost:8080/"
        },
        "id": "IAdW0Bcbh3Sc",
        "outputId": "195d34ac-bfdb-4f1b-a8f1-e40f71ca310b"
      },
      "execution_count": 4,
      "outputs": [
        {
          "output_type": "stream",
          "name": "stdout",
          "text": [
            "[1, 2, 3, 4]\n"
          ]
        }
      ]
    },
    {
      "cell_type": "code",
      "source": [
        "li = list(map(int, input().split()))\n",
        "print(li)"
      ],
      "metadata": {
        "colab": {
          "base_uri": "https://localhost:8080/"
        },
        "id": "cTtFPp_diSNk",
        "outputId": "c0ec47db-bf2c-45e4-a25b-0231ee9c1afe"
      },
      "execution_count": 5,
      "outputs": [
        {
          "output_type": "stream",
          "name": "stdout",
          "text": [
            "3 2 5 6 2\n",
            "[3, 2, 5, 6, 2]\n"
          ]
        }
      ]
    },
    {
      "cell_type": "markdown",
      "source": [
        "복합 예제 풀이"
      ],
      "metadata": {
        "id": "EVVdX9fgiDUs"
      }
    },
    {
      "cell_type": "code",
      "source": [
        "# 여러 개의 알파벳을 입력받아 아스키코드 값 구하기\n",
        "\n",
        "alphabets = input().split()\n",
        "\n",
        "for a in alphabets:\n",
        "  if len(a) == 1 and a.isalpha():\n",
        "    ascii = ord(a)\n",
        "    print(f'{a} - 아스키 코드 값: {ascii}')\n",
        "  else:\n",
        "    print(f'{a} - 올바른 알파벳이 아닙니다.')"
      ],
      "metadata": {
        "colab": {
          "base_uri": "https://localhost:8080/"
        },
        "id": "k5rPtaIUiJ7c",
        "outputId": "034cff37-2f24-4b81-c016-f0c86d5649ce"
      },
      "execution_count": 6,
      "outputs": [
        {
          "output_type": "stream",
          "name": "stdout",
          "text": [
            "a d w g d 3 4\n",
            "a - 아스키 코드 값: 97\n",
            "d - 아스키 코드 값: 100\n",
            "w - 아스키 코드 값: 119\n",
            "g - 아스키 코드 값: 103\n",
            "d - 아스키 코드 값: 100\n",
            "3 - 올바른 알파벳이 아닙니다.\n",
            "4 - 올바른 알파벳이 아닙니다.\n"
          ]
        }
      ]
    },
    {
      "cell_type": "code",
      "source": [
        "# 여러 개의 숫자를 입력받아 그 중 짝수의 합 구하기\n",
        "\n",
        "li = list(map(int, input().split()))\n",
        "total = 0\n",
        "\n",
        "for i in li:\n",
        "  if i % 2 == 0:\n",
        "    total += i\n",
        "\n",
        "print(total)"
      ],
      "metadata": {
        "colab": {
          "base_uri": "https://localhost:8080/"
        },
        "id": "vunu3-2LjfVm",
        "outputId": "44b0497d-7948-4b96-f8bc-c8da452d96be"
      },
      "execution_count": 7,
      "outputs": [
        {
          "output_type": "stream",
          "name": "stdout",
          "text": [
            "4 69 38 4 6 3 4 6 345 45\n",
            "62\n"
          ]
        }
      ]
    },
    {
      "cell_type": "code",
      "source": [
        "# 이름이 담긴 리스트에서 '김'씨 성을 가진 사람 출력하기\n",
        "\n",
        "names = ['김민주', '김민지', '이민정', '박민영']\n",
        "\n",
        "for n in names:\n",
        "  if n[0] == '김':\n",
        "    print(n)"
      ],
      "metadata": {
        "colab": {
          "base_uri": "https://localhost:8080/"
        },
        "id": "NfH2V8tckHdb",
        "outputId": "ea9a8834-d8ff-4f77-c5e7-cbc70e7502ec"
      },
      "execution_count": 8,
      "outputs": [
        {
          "output_type": "stream",
          "name": "stdout",
          "text": [
            "김민주\n",
            "김민지\n"
          ]
        }
      ]
    },
    {
      "cell_type": "code",
      "source": [
        "# 이름과 성적이 담긴 2개의 리스트에서 80점 이상을 받은 학생만 출력하기\n",
        "\n",
        "names = ['김민주', '김민지', '이민정', '박민영']\n",
        "scores = [85, 72, 78, 95]\n",
        "\n",
        "for n, s in zip(names, scores):\n",
        "  if s >= 80:\n",
        "    print(f'{n}: {s}점')"
      ],
      "metadata": {
        "colab": {
          "base_uri": "https://localhost:8080/"
        },
        "id": "OjaCjVZwkUgE",
        "outputId": "ef08f373-f1b7-46ab-8a4d-9b3d9b78111c"
      },
      "execution_count": 9,
      "outputs": [
        {
          "output_type": "stream",
          "name": "stdout",
          "text": [
            "김민주: 85점\n",
            "박민영: 95점\n"
          ]
        }
      ]
    },
    {
      "cell_type": "code",
      "source": [
        "# 문장에서 각 이름의 빈도수를 딕셔너리에 저장하기\n",
        "\n",
        "text = '민지 민지 민정 민주 민영 민지 민주'\n",
        "dic = {}\n",
        "\n",
        "for name in text.split():\n",
        "  dic[name] = dic.get(name, 0) + 1\n",
        "\n",
        "print(dic)"
      ],
      "metadata": {
        "colab": {
          "base_uri": "https://localhost:8080/"
        },
        "id": "ATMWKxVUknjN",
        "outputId": "8f021cb6-570e-44b7-92dc-6fb7c5a39ae8"
      },
      "execution_count": 10,
      "outputs": [
        {
          "output_type": "stream",
          "name": "stdout",
          "text": [
            "{'민지': 3, '민정': 1, '민주': 2, '민영': 1}\n"
          ]
        }
      ]
    }
  ]
}