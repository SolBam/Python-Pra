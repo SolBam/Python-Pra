{
  "nbformat": 4,
  "nbformat_minor": 0,
  "metadata": {
    "colab": {
      "provenance": [],
      "authorship_tag": "ABX9TyPE7jqSFlCyl6gGpBxBlyIT",
      "include_colab_link": true
    },
    "kernelspec": {
      "name": "python3",
      "display_name": "Python 3"
    },
    "language_info": {
      "name": "python"
    }
  },
  "cells": [
    {
      "cell_type": "markdown",
      "metadata": {
        "id": "view-in-github",
        "colab_type": "text"
      },
      "source": [
        "<a href=\"https://colab.research.google.com/github/SolBam/Python-Pra/blob/main/11_%ED%95%A8%EC%88%98.ipynb\" target=\"_parent\"><img src=\"https://colab.research.google.com/assets/colab-badge.svg\" alt=\"Open In Colab\"/></a>"
      ]
    },
    {
      "cell_type": "code",
      "execution_count": 1,
      "metadata": {
        "colab": {
          "base_uri": "https://localhost:8080/"
        },
        "id": "ZNDxgsxGd8g9",
        "outputId": "945488ac-77fc-4493-ed58-cd34ef549f86"
      },
      "outputs": [
        {
          "output_type": "stream",
          "name": "stdout",
          "text": [
            "Hello. world!\n"
          ]
        }
      ],
      "source": [
        "def print_hello():\n",
        "  print('Hello. world!')\n",
        "\n",
        "print_hello()"
      ]
    },
    {
      "cell_type": "code",
      "source": [
        "def person(name):\n",
        "  print(f'Hello. {name}')\n",
        "\n",
        "person('SJW')"
      ],
      "metadata": {
        "colab": {
          "base_uri": "https://localhost:8080/"
        },
        "id": "-1QgO3xvffPb",
        "outputId": "2f8949a3-5f14-4a9a-eeeb-5c61aea98b91"
      },
      "execution_count": 2,
      "outputs": [
        {
          "output_type": "stream",
          "name": "stdout",
          "text": [
            "Hello. SJW\n"
          ]
        }
      ]
    },
    {
      "cell_type": "code",
      "source": [
        "def add1():\n",
        "  x = int(input())\n",
        "  y = int(input())\n",
        "  return x + y\n",
        "\n",
        "print(add1())"
      ],
      "metadata": {
        "colab": {
          "base_uri": "https://localhost:8080/"
        },
        "id": "tjeqoLsQflWL",
        "outputId": "8f9af0c9-5b87-4e91-b1d3-f90d52aafbe4"
      },
      "execution_count": 3,
      "outputs": [
        {
          "output_type": "stream",
          "name": "stdout",
          "text": [
            "1\n",
            "2\n",
            "3\n"
          ]
        }
      ]
    },
    {
      "cell_type": "code",
      "source": [
        "def add2(x, y):\n",
        "  result = x + y\n",
        "  return result\n",
        "\n",
        "print(add2(3, 7))"
      ],
      "metadata": {
        "colab": {
          "base_uri": "https://localhost:8080/"
        },
        "id": "gt8j_llHf3FD",
        "outputId": "37859d4b-2b30-419d-dae2-81a080a95f21"
      },
      "execution_count": 4,
      "outputs": [
        {
          "output_type": "stream",
          "name": "stdout",
          "text": [
            "10\n"
          ]
        }
      ]
    },
    {
      "cell_type": "code",
      "source": [
        "# 전역 변수\n",
        "global_v = 'Hi'\n",
        "\n",
        "def test1():\n",
        "  print(global_v)\n",
        "\n",
        "test1()\n",
        "\n",
        "print(global_v)"
      ],
      "metadata": {
        "colab": {
          "base_uri": "https://localhost:8080/"
        },
        "id": "2Koa4k5Bf_GE",
        "outputId": "c160c0b3-a244-4626-bd3a-28de27f39a36"
      },
      "execution_count": 5,
      "outputs": [
        {
          "output_type": "stream",
          "name": "stdout",
          "text": [
            "Hi\n",
            "Hi\n"
          ]
        }
      ]
    },
    {
      "cell_type": "code",
      "source": [
        "# 지역 변수\n",
        "def test2():\n",
        "  local_v = 'Hi'\n",
        "  print(local_v)\n",
        "\n",
        "test2()\n",
        "\n",
        "print(local_v) # local_v가 지역 변수이기 때문에 실행이 안됨"
      ],
      "metadata": {
        "id": "YYb3-khbgVmB"
      },
      "execution_count": null,
      "outputs": []
    },
    {
      "cell_type": "code",
      "source": [
        "# global 키워드\n",
        "def test3():\n",
        "  global var\n",
        "  var = 'Hi'\n",
        "  print(var)\n",
        "\n",
        "test3()\n",
        "\n",
        "print(var)"
      ],
      "metadata": {
        "colab": {
          "base_uri": "https://localhost:8080/"
        },
        "id": "n2aWOB3egi2z",
        "outputId": "618cc63f-58a6-4558-c50c-44dabcbad3e2"
      },
      "execution_count": 7,
      "outputs": [
        {
          "output_type": "stream",
          "name": "stdout",
          "text": [
            "Hi\n",
            "Hi\n"
          ]
        }
      ]
    }
  ]
}