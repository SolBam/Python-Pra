{
  "nbformat": 4,
  "nbformat_minor": 0,
  "metadata": {
    "colab": {
      "provenance": [],
      "authorship_tag": "ABX9TyPE9JEX8OEhlslHwlJrfw2Q",
      "include_colab_link": true
    },
    "kernelspec": {
      "name": "python3",
      "display_name": "Python 3"
    },
    "language_info": {
      "name": "python"
    }
  },
  "cells": [
    {
      "cell_type": "markdown",
      "metadata": {
        "id": "view-in-github",
        "colab_type": "text"
      },
      "source": [
        "<a href=\"https://colab.research.google.com/github/SolBam/Python-Pra/blob/main/19_%EB%9D%BC%EC%9D%B4%EB%B8%8C%EB%9F%AC%EB%A6%AC_itertools.ipynb\" target=\"_parent\"><img src=\"https://colab.research.google.com/assets/colab-badge.svg\" alt=\"Open In Colab\"/></a>"
      ]
    },
    {
      "cell_type": "code",
      "execution_count": 1,
      "metadata": {
        "id": "Td3JEiB8tcdn"
      },
      "outputs": [],
      "source": [
        "from itertools import repeat, count, cycle"
      ]
    },
    {
      "cell_type": "code",
      "source": [
        "# 원하는 데이터를 무한 & 유한 반복\n",
        "repeat1 = repeat(1) # 원하는 데이터를 반복\n",
        "repeat2 = repeat('abc')\n",
        "repeat3 = repeat([1, 2, 3])\n",
        "repeat4 = repeat('a', 5) # 개수 제한을 할 수 있음\n",
        "\n",
        "for _ in range(10):\n",
        "  print(next(repeat1), end=' ')"
      ],
      "metadata": {
        "colab": {
          "base_uri": "https://localhost:8080/"
        },
        "id": "SzeUOSARuGoV",
        "outputId": "9f428115-efd4-471a-8a60-ae2ab84141f7"
      },
      "execution_count": 4,
      "outputs": [
        {
          "output_type": "stream",
          "name": "stdout",
          "text": [
            "1 1 1 1 1 1 1 1 1 1 "
          ]
        }
      ]
    },
    {
      "cell_type": "code",
      "source": [
        "# 숫자 타입 무한 반복\n",
        "count1 = count()\n",
        "count2 = count(10) # 시작하는 숫자 제한\n",
        "count3 = count(10, 2) # step을 설정할 수 있음\n",
        "count4 = count(10.0, 0.1)\n",
        "\n",
        "for _ in range(10):\n",
        "  print(next(count1), end=' ')"
      ],
      "metadata": {
        "colab": {
          "base_uri": "https://localhost:8080/"
        },
        "id": "3T3F4hAbuWJZ",
        "outputId": "04ef1519-739e-41b7-8475-30474e630835"
      },
      "execution_count": 5,
      "outputs": [
        {
          "output_type": "stream",
          "name": "stdout",
          "text": [
            "0 1 2 3 4 5 6 7 8 9 "
          ]
        }
      ]
    },
    {
      "cell_type": "code",
      "source": [
        "# 이터러블 데이터 무한 반복\n",
        "cycle1 = cycle('abc')\n",
        "cycle2 = cycle([1, 2, 3])\n",
        "\n",
        "for _ in range(10):\n",
        "  print(next(cycle1), end=' ')"
      ],
      "metadata": {
        "colab": {
          "base_uri": "https://localhost:8080/"
        },
        "id": "OJ8yAC3SvDxA",
        "outputId": "ea61d5b9-8dd0-4013-8030-7a04635fbeb9"
      },
      "execution_count": 6,
      "outputs": [
        {
          "output_type": "stream",
          "name": "stdout",
          "text": [
            "a b c a b c a b c a "
          ]
        }
      ]
    },
    {
      "cell_type": "code",
      "source": [
        "from itertools import product, permutations, combinations"
      ],
      "metadata": {
        "id": "dsNP55E9vPAL"
      },
      "execution_count": 7,
      "outputs": []
    },
    {
      "cell_type": "code",
      "source": [
        "iter1 = product(['a', 'b', 'c', 'd'], [1, 2]) # 데카르트 곱\n",
        "iter2 = product(['a', 'b', 'c', 'd'], repeat=2) # 순서 O, 중복 O\n",
        "iter3 = permutations(['a', 'b', 'c', 'd'], 2) # 순서 O, 중복 x (순열)\n",
        "iter4 = combinations(['a', 'b', 'c', 'd'], 2) # 순서 X, 중복 X (조합)\n",
        "\n",
        "for i in iter1:\n",
        "  print(i)"
      ],
      "metadata": {
        "colab": {
          "base_uri": "https://localhost:8080/"
        },
        "id": "l_o67S0PvVWy",
        "outputId": "4b777cc9-0a60-4224-9724-20c2c42557a5"
      },
      "execution_count": 8,
      "outputs": [
        {
          "output_type": "stream",
          "name": "stdout",
          "text": [
            "('a', 1)\n",
            "('a', 2)\n",
            "('b', 1)\n",
            "('b', 2)\n",
            "('c', 1)\n",
            "('c', 2)\n",
            "('d', 1)\n",
            "('d', 2)\n"
          ]
        }
      ]
    },
    {
      "cell_type": "code",
      "source": [
        "# 주어진 주사위의 각 면의 숫자를 이용하여 가능한 모든 경우의 수를 생성\n",
        "def dice_simulation(dice_faces, num_rolls):\n",
        "  outcomes = list(product(range(1, dice_faces + 1), repeat=num_rolls))\n",
        "  return outcomes\n",
        "\n",
        "num_faces = 6\n",
        "num_rolls = 2\n",
        "print('주사위 던지기 시뮬레이션 결과:', dice_simulation(num_faces, num_rolls))"
      ],
      "metadata": {
        "colab": {
          "base_uri": "https://localhost:8080/"
        },
        "id": "uR_uwwCEv0G5",
        "outputId": "39861286-71a2-4c4a-aa9b-fe633606a47c"
      },
      "execution_count": 9,
      "outputs": [
        {
          "output_type": "stream",
          "name": "stdout",
          "text": [
            "주사위 던지기 시뮬레이션 결과: [(1, 1), (1, 2), (1, 3), (1, 4), (1, 5), (1, 6), (2, 1), (2, 2), (2, 3), (2, 4), (2, 5), (2, 6), (3, 1), (3, 2), (3, 3), (3, 4), (3, 5), (3, 6), (4, 1), (4, 2), (4, 3), (4, 4), (4, 5), (4, 6), (5, 1), (5, 2), (5, 3), (5, 4), (5, 5), (5, 6), (6, 1), (6, 2), (6, 3), (6, 4), (6, 5), (6, 6)]\n"
          ]
        }
      ]
    },
    {
      "cell_type": "code",
      "source": [
        "# 1~10까지 복권 번호 중 중복과 순서없이 3개를 선택하는 모든 조합\n",
        "def generate_lotto_numbers():\n",
        "  numbers = list(range(1, 11))\n",
        "  lotto_combinations = list(combinations(numbers, 3))\n",
        "  return lotto_combinations\n",
        "\n",
        "print('복권 번호 조합:')\n",
        "for idx, combination in enumerate(generate_lotto_numbers(), start=1):\n",
        "  print(f'{idx}: {combination}')"
      ],
      "metadata": {
        "colab": {
          "base_uri": "https://localhost:8080/"
        },
        "id": "UPlr8_oLwJ79",
        "outputId": "b30c60ba-c8d7-4210-abe9-6d098749d7cc"
      },
      "execution_count": 10,
      "outputs": [
        {
          "output_type": "stream",
          "name": "stdout",
          "text": [
            "복권 번호 조합:\n",
            "1: (1, 2, 3)\n",
            "2: (1, 2, 4)\n",
            "3: (1, 2, 5)\n",
            "4: (1, 2, 6)\n",
            "5: (1, 2, 7)\n",
            "6: (1, 2, 8)\n",
            "7: (1, 2, 9)\n",
            "8: (1, 2, 10)\n",
            "9: (1, 3, 4)\n",
            "10: (1, 3, 5)\n",
            "11: (1, 3, 6)\n",
            "12: (1, 3, 7)\n",
            "13: (1, 3, 8)\n",
            "14: (1, 3, 9)\n",
            "15: (1, 3, 10)\n",
            "16: (1, 4, 5)\n",
            "17: (1, 4, 6)\n",
            "18: (1, 4, 7)\n",
            "19: (1, 4, 8)\n",
            "20: (1, 4, 9)\n",
            "21: (1, 4, 10)\n",
            "22: (1, 5, 6)\n",
            "23: (1, 5, 7)\n",
            "24: (1, 5, 8)\n",
            "25: (1, 5, 9)\n",
            "26: (1, 5, 10)\n",
            "27: (1, 6, 7)\n",
            "28: (1, 6, 8)\n",
            "29: (1, 6, 9)\n",
            "30: (1, 6, 10)\n",
            "31: (1, 7, 8)\n",
            "32: (1, 7, 9)\n",
            "33: (1, 7, 10)\n",
            "34: (1, 8, 9)\n",
            "35: (1, 8, 10)\n",
            "36: (1, 9, 10)\n",
            "37: (2, 3, 4)\n",
            "38: (2, 3, 5)\n",
            "39: (2, 3, 6)\n",
            "40: (2, 3, 7)\n",
            "41: (2, 3, 8)\n",
            "42: (2, 3, 9)\n",
            "43: (2, 3, 10)\n",
            "44: (2, 4, 5)\n",
            "45: (2, 4, 6)\n",
            "46: (2, 4, 7)\n",
            "47: (2, 4, 8)\n",
            "48: (2, 4, 9)\n",
            "49: (2, 4, 10)\n",
            "50: (2, 5, 6)\n",
            "51: (2, 5, 7)\n",
            "52: (2, 5, 8)\n",
            "53: (2, 5, 9)\n",
            "54: (2, 5, 10)\n",
            "55: (2, 6, 7)\n",
            "56: (2, 6, 8)\n",
            "57: (2, 6, 9)\n",
            "58: (2, 6, 10)\n",
            "59: (2, 7, 8)\n",
            "60: (2, 7, 9)\n",
            "61: (2, 7, 10)\n",
            "62: (2, 8, 9)\n",
            "63: (2, 8, 10)\n",
            "64: (2, 9, 10)\n",
            "65: (3, 4, 5)\n",
            "66: (3, 4, 6)\n",
            "67: (3, 4, 7)\n",
            "68: (3, 4, 8)\n",
            "69: (3, 4, 9)\n",
            "70: (3, 4, 10)\n",
            "71: (3, 5, 6)\n",
            "72: (3, 5, 7)\n",
            "73: (3, 5, 8)\n",
            "74: (3, 5, 9)\n",
            "75: (3, 5, 10)\n",
            "76: (3, 6, 7)\n",
            "77: (3, 6, 8)\n",
            "78: (3, 6, 9)\n",
            "79: (3, 6, 10)\n",
            "80: (3, 7, 8)\n",
            "81: (3, 7, 9)\n",
            "82: (3, 7, 10)\n",
            "83: (3, 8, 9)\n",
            "84: (3, 8, 10)\n",
            "85: (3, 9, 10)\n",
            "86: (4, 5, 6)\n",
            "87: (4, 5, 7)\n",
            "88: (4, 5, 8)\n",
            "89: (4, 5, 9)\n",
            "90: (4, 5, 10)\n",
            "91: (4, 6, 7)\n",
            "92: (4, 6, 8)\n",
            "93: (4, 6, 9)\n",
            "94: (4, 6, 10)\n",
            "95: (4, 7, 8)\n",
            "96: (4, 7, 9)\n",
            "97: (4, 7, 10)\n",
            "98: (4, 8, 9)\n",
            "99: (4, 8, 10)\n",
            "100: (4, 9, 10)\n",
            "101: (5, 6, 7)\n",
            "102: (5, 6, 8)\n",
            "103: (5, 6, 9)\n",
            "104: (5, 6, 10)\n",
            "105: (5, 7, 8)\n",
            "106: (5, 7, 9)\n",
            "107: (5, 7, 10)\n",
            "108: (5, 8, 9)\n",
            "109: (5, 8, 10)\n",
            "110: (5, 9, 10)\n",
            "111: (6, 7, 8)\n",
            "112: (6, 7, 9)\n",
            "113: (6, 7, 10)\n",
            "114: (6, 8, 9)\n",
            "115: (6, 8, 10)\n",
            "116: (6, 9, 10)\n",
            "117: (7, 8, 9)\n",
            "118: (7, 8, 10)\n",
            "119: (7, 9, 10)\n",
            "120: (8, 9, 10)\n"
          ]
        }
      ]
    }
  ]
}