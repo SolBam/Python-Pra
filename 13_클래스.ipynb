{
  "nbformat": 4,
  "nbformat_minor": 0,
  "metadata": {
    "colab": {
      "provenance": [],
      "authorship_tag": "ABX9TyOn4X2lLVgmNjH0L/rEd5Hk",
      "include_colab_link": true
    },
    "kernelspec": {
      "name": "python3",
      "display_name": "Python 3"
    },
    "language_info": {
      "name": "python"
    }
  },
  "cells": [
    {
      "cell_type": "markdown",
      "metadata": {
        "id": "view-in-github",
        "colab_type": "text"
      },
      "source": [
        "<a href=\"https://colab.research.google.com/github/SolBam/Python-Pra/blob/main/13_%ED%81%B4%EB%9E%98%EC%8A%A4.ipynb\" target=\"_parent\"><img src=\"https://colab.research.google.com/assets/colab-badge.svg\" alt=\"Open In Colab\"/></a>"
      ]
    },
    {
      "cell_type": "code",
      "execution_count": 1,
      "metadata": {
        "id": "M1k7ZvlrxcY8"
      },
      "outputs": [],
      "source": [
        "class Car:\n",
        "  # 필드\n",
        "  make = ''\n",
        "  model = ''\n",
        "  year = 0\n",
        "\n",
        "  # 메서드\n",
        "  def toString(self):\n",
        "    print(f'This car is an {self.model} produced in {self.year} by {self.make}')"
      ]
    },
    {
      "cell_type": "code",
      "source": [
        "car1 = Car()\n",
        "\n",
        "car1.make = 'Hyundai'\n",
        "car1.model = 'Avante'\n",
        "car1.year = 2020\n",
        "\n",
        "car1.toString()\n",
        "\n",
        "car2 = Car()\n",
        "\n",
        "car2.make = 'Audi'\n",
        "car2.model = 'A7'\n",
        "car2.year = 2024\n",
        "\n",
        "car2.toString()"
      ],
      "metadata": {
        "colab": {
          "base_uri": "https://localhost:8080/"
        },
        "id": "PJ7YwUXbx2x0",
        "outputId": "3807178f-09f5-45dd-93a7-38fe2f876a55"
      },
      "execution_count": 2,
      "outputs": [
        {
          "output_type": "stream",
          "name": "stdout",
          "text": [
            "This car is an Avante produced in 2020 by Hyundai\n",
            "This car is an A7 produced in 2024 by Audi\n"
          ]
        }
      ]
    },
    {
      "cell_type": "code",
      "source": [
        "class Car:\n",
        "  # 필드\n",
        "  make = ''\n",
        "  model = ''\n",
        "  year = 0\n",
        "\n",
        "  # 생성자\n",
        "  def __init__(self, make, model, year):\n",
        "    self.make = make\n",
        "    self.model = model\n",
        "    self.year = year\n",
        "\n",
        "  # 문자열 내장모듈\n",
        "  def __str__(self):\n",
        "    return f'This car is an {self.model} produced in {self.year} by {self.make}'"
      ],
      "metadata": {
        "id": "0-iA5TZpyQnO"
      },
      "execution_count": 3,
      "outputs": []
    },
    {
      "cell_type": "code",
      "source": [
        "car1 = Car('Hyundai', 'Avante', '2020')\n",
        "print(car1)\n",
        "\n",
        "car2 = Car('Audi', 'A7', '2024')\n",
        "print(car2)"
      ],
      "metadata": {
        "colab": {
          "base_uri": "https://localhost:8080/"
        },
        "id": "Dj5ALFdXyo8F",
        "outputId": "d65499dc-5e50-4fba-b1d3-988a156d461a"
      },
      "execution_count": 4,
      "outputs": [
        {
          "output_type": "stream",
          "name": "stdout",
          "text": [
            "This car is an Avante produced in 2020 by Hyundai\n",
            "This car is an A7 produced in 2024 by Audi\n"
          ]
        }
      ]
    },
    {
      "cell_type": "code",
      "source": [
        "class Truck(Car):\n",
        "  # 추가 필드\n",
        "  payload_capacity = 0\n",
        "\n",
        "  # 추가 생성자\n",
        "  def __init__(self, make, model, year, payload_capacity):\n",
        "    # 부모 클래스의 생성자 호출하여 필드 초기화\n",
        "    super().__init__(make, model, year)\n",
        "    self.payload_capacity = payload_capacity\n",
        "\n",
        "  # 추가 메서드\n",
        "  def load_cargo(self, weight):\n",
        "    if weight <= self.payload_capacity:\n",
        "      print(f'Loaded cargo of {weight} kg successfully.')\n",
        "    else:\n",
        "      print(f'Cargo of {weight} kg exceeds payload capacity of {self.payload_capacity} kg.')"
      ],
      "metadata": {
        "id": "VUbL7bxTyyfe"
      },
      "execution_count": 9,
      "outputs": []
    },
    {
      "cell_type": "code",
      "source": [
        "truck1 = Truck('Ford', 'F150', 2022, 2000)\n",
        "print(truck1)\n",
        "\n",
        "truck1.load_cargo(1500)\n",
        "truck1.load_cargo(2500)"
      ],
      "metadata": {
        "colab": {
          "base_uri": "https://localhost:8080/"
        },
        "id": "qghhU96QzZie",
        "outputId": "2b6ac0a4-f939-47e3-c4bc-12554a25fb17"
      },
      "execution_count": 10,
      "outputs": [
        {
          "output_type": "stream",
          "name": "stdout",
          "text": [
            "This car is an F150 produced in 2022 by Ford\n",
            "Loaded cargo of 1500 kg successfully.\n",
            "Cargo of 2500 kg exceeds payload capacity of 2000 kg.\n"
          ]
        }
      ]
    }
  ]
}