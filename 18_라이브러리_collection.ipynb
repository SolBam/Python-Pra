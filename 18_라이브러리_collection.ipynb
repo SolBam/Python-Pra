{
  "nbformat": 4,
  "nbformat_minor": 0,
  "metadata": {
    "colab": {
      "provenance": [],
      "authorship_tag": "ABX9TyPT54P0TYJPStaA1u4q2yQd",
      "include_colab_link": true
    },
    "kernelspec": {
      "name": "python3",
      "display_name": "Python 3"
    },
    "language_info": {
      "name": "python"
    }
  },
  "cells": [
    {
      "cell_type": "markdown",
      "metadata": {
        "id": "view-in-github",
        "colab_type": "text"
      },
      "source": [
        "<a href=\"https://colab.research.google.com/github/SolBam/Python-Pra/blob/main/18_%EB%9D%BC%EC%9D%B4%EB%B8%8C%EB%9F%AC%EB%A6%AC_collection.ipynb\" target=\"_parent\"><img src=\"https://colab.research.google.com/assets/colab-badge.svg\" alt=\"Open In Colab\"/></a>"
      ]
    },
    {
      "cell_type": "code",
      "execution_count": 2,
      "metadata": {
        "id": "aXjdXTjJpxBc"
      },
      "outputs": [],
      "source": [
        "from collections import Counter"
      ]
    },
    {
      "cell_type": "code",
      "source": [
        "# Counter 객체 생성\n",
        "\n",
        "counter1 = Counter(['a', 'a', 'b', 'a', 'b', 'c', 'a'])\n",
        "counter2 = Counter({'a': 2, 'b': 1, 'c': 3, 'd': 3})\n",
        "counter3 = Counter('aababca')\n",
        "counter4 = Counter(a = 5, b = 2, c = 1, e = 2)\n",
        "\n",
        "print(counter1)\n",
        "print(counter2)\n",
        "print(counter3)\n",
        "print(counter4)"
      ],
      "metadata": {
        "colab": {
          "base_uri": "https://localhost:8080/"
        },
        "id": "TISIs92Bqdr1",
        "outputId": "ec645e53-28e0-4ae7-a5fa-a01c00b7dca3"
      },
      "execution_count": 3,
      "outputs": [
        {
          "output_type": "stream",
          "name": "stdout",
          "text": [
            "Counter({'a': 4, 'b': 2, 'c': 1})\n",
            "Counter({'c': 3, 'd': 3, 'a': 2, 'b': 1})\n",
            "Counter({'a': 4, 'b': 2, 'c': 1})\n",
            "Counter({'a': 5, 'b': 2, 'e': 2, 'c': 1})\n"
          ]
        }
      ]
    },
    {
      "cell_type": "code",
      "source": [
        "# Counter 객체 연산\n",
        "print(counter1 + counter2)\n",
        "print(counter1 - counter2)\n",
        "print(counter1 & counter2)\n",
        "print(counter1 | counter2)"
      ],
      "metadata": {
        "colab": {
          "base_uri": "https://localhost:8080/"
        },
        "id": "XEfGJWSard0d",
        "outputId": "8973f294-3e95-4554-8bb3-cfcb1e5523a9"
      },
      "execution_count": 4,
      "outputs": [
        {
          "output_type": "stream",
          "name": "stdout",
          "text": [
            "Counter({'a': 6, 'c': 4, 'b': 3, 'd': 3})\n",
            "Counter({'a': 2, 'b': 1})\n",
            "Counter({'a': 2, 'b': 1, 'c': 1})\n",
            "Counter({'a': 4, 'c': 3, 'd': 3, 'b': 2})\n"
          ]
        }
      ]
    },
    {
      "cell_type": "code",
      "source": [
        "print(counter1 == counter2)\n",
        "print(counter1 == counter3)\n",
        "print(counter1 <= counter2)\n",
        "print(counter1 <= counter4)"
      ],
      "metadata": {
        "colab": {
          "base_uri": "https://localhost:8080/"
        },
        "id": "1jfko2dCrpMg",
        "outputId": "721ec94f-01a6-43ed-8c6b-319bdfbc9659"
      },
      "execution_count": 5,
      "outputs": [
        {
          "output_type": "stream",
          "name": "stdout",
          "text": [
            "False\n",
            "True\n",
            "False\n",
            "True\n"
          ]
        }
      ]
    },
    {
      "cell_type": "code",
      "source": [
        "# Counter 객체 메서드\n",
        "print(counter1.total())\n",
        "print(counter1.items())\n",
        "print(counter1.values())\n",
        "print(counter1.keys())\n",
        "print(list(counter1.elements()))\n",
        "print(counter1.most_common(2))\n",
        "print(counter1.get('a'))"
      ],
      "metadata": {
        "colab": {
          "base_uri": "https://localhost:8080/"
        },
        "id": "ICcAAoWYr3tM",
        "outputId": "36939485-9ced-49e8-ebeb-d30644a35778"
      },
      "execution_count": 6,
      "outputs": [
        {
          "output_type": "stream",
          "name": "stdout",
          "text": [
            "7\n",
            "dict_items([('a', 4), ('b', 2), ('c', 1)])\n",
            "dict_values([4, 2, 1])\n",
            "dict_keys(['a', 'b', 'c'])\n",
            "['a', 'a', 'a', 'a', 'b', 'b', 'c']\n",
            "[('a', 4), ('b', 2)]\n",
            "4\n"
          ]
        }
      ]
    },
    {
      "cell_type": "code",
      "source": [
        "def top_k_frequent_chars(s, k):\n",
        "  counts = Counter(s)\n",
        "  sorted_counts = sorted(counts.items(), key=lambda x: x[1], reverse=True)\n",
        "  top_k = sorted_counts[:k]\n",
        "  return [char for char, _ in top_k]\n",
        "\n",
        "input_string = 'aabbbccccdd'\n",
        "k = 2\n",
        "print(f'등장 빈도가 높은 상위 {k}개의 문자:', top_k_frequent_chars(input_string, k))"
      ],
      "metadata": {
        "colab": {
          "base_uri": "https://localhost:8080/"
        },
        "id": "nBG8I-N7sRhO",
        "outputId": "545b032d-9bed-49c5-873a-390258d9b878"
      },
      "execution_count": 7,
      "outputs": [
        {
          "output_type": "stream",
          "name": "stdout",
          "text": [
            "등장 빈도가 높은 상위 2개의 문자: ['c', 'b']\n"
          ]
        }
      ]
    },
    {
      "cell_type": "code",
      "source": [
        "def common_elements(list1, list2):\n",
        "  counter1 = Counter(list1)\n",
        "  counter2 = Counter(list2)\n",
        "  common = counter1 & counter2\n",
        "  return list(common.elements())\n",
        "\n",
        "list1 = [1, 2, 2, 3, 3, 4, 5]\n",
        "list2 = [2, 3, 3, 4, 4, 5, 6]\n",
        "print('두 리스트에서 공통으로 등장하는 요소:', common_elements(list1, list2))"
      ],
      "metadata": {
        "colab": {
          "base_uri": "https://localhost:8080/"
        },
        "id": "ZTpzuIxcs0mH",
        "outputId": "6e3db90e-545b-4bec-9c3e-356180a59a97"
      },
      "execution_count": 8,
      "outputs": [
        {
          "output_type": "stream",
          "name": "stdout",
          "text": [
            "두 리스트에서 공통으로 등장하는 요소: [2, 3, 3, 4, 5]\n"
          ]
        }
      ]
    }
  ]
}