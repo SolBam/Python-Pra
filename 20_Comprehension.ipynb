{
  "nbformat": 4,
  "nbformat_minor": 0,
  "metadata": {
    "colab": {
      "provenance": [],
      "authorship_tag": "ABX9TyN7MEtV0M1jeb2dDbhWldOi",
      "include_colab_link": true
    },
    "kernelspec": {
      "name": "python3",
      "display_name": "Python 3"
    },
    "language_info": {
      "name": "python"
    }
  },
  "cells": [
    {
      "cell_type": "markdown",
      "metadata": {
        "id": "view-in-github",
        "colab_type": "text"
      },
      "source": [
        "<a href=\"https://colab.research.google.com/github/SolBam/Python-Pra/blob/main/20_Comprehension.ipynb\" target=\"_parent\"><img src=\"https://colab.research.google.com/assets/colab-badge.svg\" alt=\"Open In Colab\"/></a>"
      ]
    },
    {
      "cell_type": "code",
      "execution_count": 1,
      "metadata": {
        "colab": {
          "base_uri": "https://localhost:8080/"
        },
        "id": "vqMfVwsmwvli",
        "outputId": "0d917e9d-f282-40d5-a482-2d55a286f2ac"
      },
      "outputs": [
        {
          "output_type": "stream",
          "name": "stdout",
          "text": [
            "[0, 1, 2, 3, 4]\n"
          ]
        }
      ],
      "source": [
        "numbers = [i for i in range(5)]\n",
        "print(numbers)"
      ]
    },
    {
      "cell_type": "code",
      "source": [
        "even_numbers = [i for i in range(10) if i % 2 == 0]\n",
        "print(even_numbers)"
      ],
      "metadata": {
        "colab": {
          "base_uri": "https://localhost:8080/"
        },
        "id": "8U68fD-SyOh7",
        "outputId": "ebe7306e-7e26-4fa6-958c-5c6ba63f8296"
      },
      "execution_count": 2,
      "outputs": [
        {
          "output_type": "stream",
          "name": "stdout",
          "text": [
            "[0, 2, 4, 6, 8]\n"
          ]
        }
      ]
    },
    {
      "cell_type": "code",
      "source": [
        "matrix = [[i * j for j in range(1, 4)] for i in range(1, 4)]\n",
        "print(matrix)"
      ],
      "metadata": {
        "colab": {
          "base_uri": "https://localhost:8080/"
        },
        "id": "veS7re9iyUbj",
        "outputId": "a75582bc-973b-4158-a8d8-5ba4446d528c"
      },
      "execution_count": 3,
      "outputs": [
        {
          "output_type": "stream",
          "name": "stdout",
          "text": [
            "[[1, 2, 3], [2, 4, 6], [3, 6, 9]]\n"
          ]
        }
      ]
    },
    {
      "cell_type": "code",
      "source": [
        "n = 5\n",
        "nested_list = [[i for i in range(1, x + 1)] for x in range(1, n + 1)]\n",
        "print(nested_list)"
      ],
      "metadata": {
        "colab": {
          "base_uri": "https://localhost:8080/"
        },
        "id": "bVVlJJHnycx2",
        "outputId": "6563be38-d42e-44bc-9704-6e61a8e38976"
      },
      "execution_count": 4,
      "outputs": [
        {
          "output_type": "stream",
          "name": "stdout",
          "text": [
            "[[1], [1, 2], [1, 2, 3], [1, 2, 3, 4], [1, 2, 3, 4, 5]]\n"
          ]
        }
      ]
    },
    {
      "cell_type": "code",
      "source": [
        "# 주어진 문자열 리스트에서 각 문자열의 길이가 n 이상인 문자열만 추출하여 이들을 대문자로 변환한 결과를 새로운 리스트에 추가\n",
        "def long_strings(strings, n):\n",
        "  return [s.upper() for s in strings if len(s) >= n]\n",
        "\n",
        "li = long_strings(['apple', 'banana', 'orange', 'kiwi', 'strawberry'], 5)\n",
        "print(li)"
      ],
      "metadata": {
        "colab": {
          "base_uri": "https://localhost:8080/"
        },
        "id": "6Kb2wDy7ypEP",
        "outputId": "6c6a44fe-510e-4db4-a5d6-c473b9c48e7d"
      },
      "execution_count": 6,
      "outputs": [
        {
          "output_type": "stream",
          "name": "stdout",
          "text": [
            "['APPLE', 'BANANA', 'ORANGE', 'STRAWBERRY']\n"
          ]
        }
      ]
    },
    {
      "cell_type": "code",
      "source": [
        "# 주어진 정수 리스트에서 홀수만 추출하여 각 숫자를 문자열로 변환하고, 이들을 뒤집은 문자열로 이루어진 리스트를 생성\n",
        "def reverse_odd_numbers(numbers):\n",
        "  return [str(num)[::-1] for num in numbers if num % 2 != 0]\n",
        "\n",
        "li = reverse_odd_numbers([123, 456, 789, 102])\n",
        "print(li)"
      ],
      "metadata": {
        "colab": {
          "base_uri": "https://localhost:8080/"
        },
        "id": "JlIA9ikrzHR6",
        "outputId": "2c89c3fe-f612-4198-a274-1d0b6ba4946c"
      },
      "execution_count": 7,
      "outputs": [
        {
          "output_type": "stream",
          "name": "stdout",
          "text": [
            "['321', '987']\n"
          ]
        }
      ]
    }
  ]
}